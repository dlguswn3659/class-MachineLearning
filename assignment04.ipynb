{
  "nbformat": 4,
  "nbformat_minor": 0,
  "metadata": {
    "colab": {
      "name": "Untitled2.ipynb",
      "provenance": [],
      "authorship_tag": "ABX9TyP4fNkF38iQcsC2eEAMC+Do",
      "include_colab_link": true
    },
    "kernelspec": {
      "name": "python3",
      "display_name": "Python 3"
    }
  },
  "cells": [
    {
      "cell_type": "markdown",
      "metadata": {
        "id": "view-in-github",
        "colab_type": "text"
      },
      "source": [
        "<a href=\"https://colab.research.google.com/github/dlguswn3659/class-MachineLearning/blob/master/assignment04.ipynb\" target=\"_parent\"><img src=\"https://colab.research.google.com/assets/colab-badge.svg\" alt=\"Open In Colab\"/></a>"
      ]
    },
    {
      "cell_type": "markdown",
      "metadata": {
        "id": "gn6l5aLyRyiJ",
        "colab_type": "text"
      },
      "source": [
        "# **Machine Learning Assignment04** #\n",
        "\n",
        "Name : 이현주\n",
        "\n",
        "Student # : 20184060"
      ]
    },
    {
      "cell_type": "markdown",
      "metadata": {
        "id": "4l1WbaycR9iz",
        "colab_type": "text"
      },
      "source": [
        "# **1. Plot the estimated parameters using the training dataset [3pt]**\n",
        "\n",
        "- plot the estimated parameters {(θ0,θ1,θ2,θ3)} at every iteration of gradient descent until convergence\n",
        "\n",
        "- the colors for the parameters {(θ0,θ1,θ2,θ3)} should be black, red, green, blue, respectively\n",
        "\n",
        "- the optimization is performed using the training dataset ('data_train.csv')"
      ]
    },
    {
      "cell_type": "code",
      "metadata": {
        "id": "crPONrB2SqWf",
        "colab_type": "code",
        "colab": {}
      },
      "source": [
        "%matplotlib inline\n",
        "import numpy as np\n",
        "import matplotlib.pyplot as plt\n",
        "import matplotlib as mpl\n",
        "import seaborn as sns\n",
        "import matplotlib.animation as animation\n",
        "from scipy import stats \n",
        "from mpl_toolkits.mplot3d import Axes3D\n",
        "from sklearn.datasets.samples_generator import make_regression \n",
        "import csv\n",
        "# from google.colab import files\n",
        "\n",
        "# uploaded = files.upload()\n",
        "\n",
        "train_point = [[0]*3 for i in range(300)]\n",
        "test_point = [[0]*4 for i in range(300)]\n",
        "y = [[0]*1 for i in range(300)]\n",
        "\n",
        "with open('data_train.csv', newline='') as myfile:\n",
        "    reader  = csv.reader(myfile, delimiter=',')\n",
        "    ct = 0 \n",
        "    for i in reader:\n",
        "        # print('[', ct, ']', 'x =', i[0], ', y = ', i[1], ', z = ', i[2], ', h = ', i[3])\n",
        "        # train_point[ct][0] = 1\n",
        "        # train_point[ct][1] = i[0]\n",
        "        # train_point[ct][2] = i[1]\n",
        "        # train_point[ct][3] = i[2]\n",
        "        train_point[ct][0] = i[0]\n",
        "        train_point[ct][1] = i[1]\n",
        "        train_point[ct][2] = i[2]\n",
        "        y[ct][0] = i[3]\n",
        "        ct += 1\n",
        "\n",
        "y = np.array(y,dtype=float)\n",
        "# print(y)\n",
        "\n",
        "with open('data_test.csv', newline='') as myfile:\n",
        "    reader  = csv.reader(myfile, delimiter=',')\n",
        "    ct = 0 \n",
        "    for i in reader:\n",
        "        # print('[', ct, ']', 'x =', i[0], ', y = ', i[1], ', z = ', i[2], ', h = ', i[3])\n",
        "        test_point[ct][0] = i[0]\n",
        "        test_point[ct][1] = i[1]\n",
        "        test_point[ct][2] = i[2]\n",
        "        # test_point[ct][3] = i[3]\n",
        "        ct += 1\n"
      ],
      "execution_count": 0,
      "outputs": []
    },
    {
      "cell_type": "code",
      "metadata": {
        "id": "b9bd5JFlHKPK",
        "colab_type": "code",
        "colab": {}
      },
      "source": [
        "X = train_point\n",
        "\n",
        "# print(X)\n",
        "# print(test_point)"
      ],
      "execution_count": 0,
      "outputs": []
    },
    {
      "cell_type": "code",
      "metadata": {
        "id": "Y10XX5HoGRVq",
        "colab_type": "code",
        "colab": {}
      },
      "source": [
        "# X_b = np.c_[np.ones((300,4)),X]\n",
        "# X_b=np.array(X_b,dtype=float)\n",
        "# y=np.array(y, dtype=float)\n",
        "# theta_best = np.linalg.inv(X_b.T.dot(X_b)).dot(X_b.T).dot(y)\n",
        "# print(theta_best)"
      ],
      "execution_count": 0,
      "outputs": []
    },
    {
      "cell_type": "code",
      "metadata": {
        "id": "AqTl6wdtHP1_",
        "colab_type": "code",
        "colab": {}
      },
      "source": [
        "# X_new = np.array([[0],[2]])\n",
        "# X_new_b = np.c_[np.ones((2,1)),X_new]\n",
        "# print(X_new_b.shape)\n",
        "# print(X_new)\n",
        "# y_predict = X_new_b.dot(theta_best)\n",
        "\n",
        "# y_predict"
      ],
      "execution_count": 0,
      "outputs": []
    },
    {
      "cell_type": "code",
      "metadata": {
        "id": "ALM1PlKgHR-w",
        "colab_type": "code",
        "colab": {}
      },
      "source": [
        "\n",
        "def  cal_cost(theta,X,y):\n",
        "    '''\n",
        "    \n",
        "    Calculates the cost for given X and Y. The following shows and example of a single dimensional X\n",
        "    theta = Vector of thetas \n",
        "    X     = Row of X's np.zeros((2,j))\n",
        "    y     = Actual y's np.zeros((2,1))\n",
        "    \n",
        "    where:\n",
        "        j is the no of features\n",
        "    '''\n",
        "    \n",
        "    m = len(y)\n",
        "    \n",
        "    predictions = X.dot(theta)\n",
        "    # print(X)\n",
        "    # print(theta)\n",
        "\n",
        "    cost = (1/(2*m)) * np.sum(np.square(predictions-y))\n",
        "    return cost\n"
      ],
      "execution_count": 0,
      "outputs": []
    },
    {
      "cell_type": "code",
      "metadata": {
        "id": "8rIXRbABHT-V",
        "colab_type": "code",
        "colab": {}
      },
      "source": [
        "def gradient_descent(X,y,theta,learning_rate=0.0000001,iterations=1000):\n",
        "    '''\n",
        "    X    = Matrix of X with added bias units\n",
        "    y    = Vector of Y\n",
        "    theta=Vector of thetas np.random.randn(j,1)\n",
        "    learning_rate \n",
        "    iterations = no of iterations\n",
        "    \n",
        "    Returns the final theta vector and array of cost history over no of iterations\n",
        "    '''\n",
        "    m = len(y)\n",
        "    # theta[0][0] = 1\n",
        "    # theta[1][0] = 1\n",
        "    # theta[2][0] = 1\n",
        "    # theta[3][0] = 1\n",
        "    cost_history = np.zeros(iterations)\n",
        "    theta_history = np.zeros((iterations,4))\n",
        "    for it in range(iterations):\n",
        "        # X = np.array(X,dtype=float)\n",
        "        # theta = np.array(theta,dtype=float)\n",
        "        \n",
        "        # prediction = np.dot(X,theta)\n",
        "\n",
        "        # print(prediction.shape)\n",
        "        # print(X.shape)\n",
        "        # print(theta.shape)\n",
        "\n",
        "        # tmp0 = theta[0][m]\n",
        "        # tmp1 = theta[1][m]\n",
        "        # tmp2 = theta[2][m]\n",
        "        # tmp3 = theta[3][m]\n",
        "        \n",
        "        pred = 0\n",
        "        pred0 = 0\n",
        "        pred1 = 0\n",
        "        pred2 = 0\n",
        "        pred3 = 0\n",
        "\n",
        "        for i in range(0, m):\n",
        "          # print(i)\n",
        "          #cost 함수\n",
        "          pred = pred + (theta[0][it]*X[i][0] + theta[1][it]*X[i][1] + theta[2][it]*X[i][2] + theta[3][it]*X[i][3] - y[i][0])*(theta[0][it]*X[i][0] + theta[1][it]*X[i][1] + theta[2][it]*X[i][2] + theta[3][it]*X[i][3] - y[i][0])\n",
        "          \n",
        "          #theta함수\n",
        "          pred0 = pred0 + (theta[0][it]*X[i][0] + theta[1][it]*X[i][1] + theta[2][it]*X[i][2] + theta[3][it]*X[i][3] - y[i][0])*X[i][0]\n",
        "          pred1 = pred1 + (theta[0][it]*X[i][0] + theta[1][it]*X[i][1] + theta[2][it]*X[i][2] + theta[3][it]*X[i][3] - y[i][0])*X[i][1]\n",
        "          pred2 = pred2 + (theta[0][it]*X[i][0] + theta[1][it]*X[i][1] + theta[2][it]*X[i][2] + theta[3][it]*X[i][3] - y[i][0])*X[i][2]\n",
        "          pred3 = pred3 + (theta[0][it]*X[i][0] + theta[1][it]*X[i][1] + theta[2][it]*X[i][2] + theta[3][it]*X[i][3] - y[i][0])*X[i][3]\n",
        "        \n",
        "        # print(it)\n",
        "        theta[0][it + 1] = theta[0][it] - (1/m)*learning_rate*pred0\n",
        "        theta[1][it + 1] = theta[1][it] - (1/m)*learning_rate*pred1\n",
        "        theta[2][it + 1] = theta[2][it] - (1/m)*learning_rate*pred2\n",
        "        theta[3][it + 1] = theta[3][it] - (1/m)*learning_rate*pred3\n",
        "        # theta = theta - (1/m)*learning_rate*( X.T.dot((prediction - y)))\n",
        "\n",
        "        theta_history[it][0] = theta[0][it]\n",
        "        theta_history[it][1] = theta[1][it]\n",
        "        theta_history[it][2] = theta[2][it]\n",
        "        theta_history[it][3] = theta[3][it]\n",
        "        # theta_history[it,:] =theta.T\n",
        "        # cost_history[it]  = cal_cost(theta,X,y)\n",
        "        cost_history[it]  = (1/(2*m)) * pred\n",
        "        \n",
        "    return theta, cost_history, theta_history\n",
        "        \n",
        "    \n",
        "    "
      ],
      "execution_count": 0,
      "outputs": []
    },
    {
      "cell_type": "code",
      "metadata": {
        "id": "w0HPcNKuNmXt",
        "colab_type": "code",
        "colab": {}
      },
      "source": [
        "def  new_cost(X,y,theta,iterations=10000):\n",
        "    \n",
        "    m = len(y)\n",
        "    \n",
        "    cost_history = np.zeros(iterations)\n",
        "\n",
        "    for it in range(iterations):\n",
        "\n",
        "        pred = 0\n",
        "\n",
        "        for i in range(0, m):\n",
        "          pred = pred + (theta[0][it]*X[i][0] + theta[1][it]*X[i][1] + theta[2][it]*X[i][2] + theta[3][it]*X[i][3] - y[i][0])*(theta[0][it]*X[i][0] + theta[1][it]*X[i][1] + theta[2][it]*X[i][2] + theta[3][it]*X[i][3] - y[i][0])\n",
        "        \n",
        "        cost_history[it]  = (1/(2*m)) * pred\n",
        "\n",
        "    return cost_history"
      ],
      "execution_count": 0,
      "outputs": []
    },
    {
      "cell_type": "code",
      "metadata": {
        "id": "tpzoa9B2HWqm",
        "colab_type": "code",
        "colab": {
          "base_uri": "https://localhost:8080/",
          "height": 71
        },
        "outputId": "aea2f5ce-12a4-429a-a772-3e9c71d18835"
      },
      "source": [
        "lr =0.0000001\n",
        "n_iter = 1000\n",
        "\n",
        "# theta = np.random.randn(4,n_iter + 1)\n",
        "theta = np.zeros((4, n_iter + 1))\n",
        "# print(theta)\n",
        "\n",
        "X_b = np.c_[np.ones((len(X),1)),X]\n",
        "X_b = np.array(X_b,dtype=float)\n",
        "# print(X_b.shape)\n",
        "# print(X_b.dtype)\n",
        "# print(y.dtype)\n",
        "theta,cost_history,theta_history = gradient_descent(X_b,y,theta,lr,n_iter)\n",
        "# print(cost_history)\n",
        "\n",
        "# print(theta[1])\n",
        "\n",
        "print('Theta0:          {:0.3f},\\nTheta1:          {:0.3f}'.format(theta[0][0],theta[1][0]))\n",
        "print('Final cost/MSE:  {:0.3f}'.format(cost_history[-1]))"
      ],
      "execution_count": 311,
      "outputs": [
        {
          "output_type": "stream",
          "text": [
            "Theta0:          0.000,\n",
            "Theta1:          0.000\n",
            "Final cost/MSE:  708.484\n"
          ],
          "name": "stdout"
        }
      ]
    },
    {
      "cell_type": "code",
      "metadata": {
        "id": "MvhkcYnTVsvs",
        "colab_type": "code",
        "colab": {
          "base_uri": "https://localhost:8080/",
          "height": 497
        },
        "outputId": "88f6cef0-0cc8-4bd5-bc67-bc64b4b78339"
      },
      "source": [
        "fig,ax = plt.subplots(figsize=(12,8))\n",
        "\n",
        "theta0_history = []\n",
        "theta1_history = []\n",
        "theta2_history = []\n",
        "theta3_history = []\n",
        "\n",
        "for it in range(n_iter):\n",
        "  theta0_history.append(theta_history[it][0])\n",
        "  theta1_history.append(theta_history[it][1])\n",
        "  theta2_history.append(theta_history[it][2])\n",
        "  theta3_history.append(theta_history[it][3])\n",
        "\n",
        "# print(theta0_history)\n",
        "\n",
        "ax.set_ylabel('Theta')\n",
        "ax.set_xlabel('Iterations')\n",
        "_=ax.plot(range(n_iter),theta0_history,'b.', color = 'black')\n",
        "_=ax.plot(range(n_iter),theta1_history,'b.', color = 'red')\n",
        "_=ax.plot(range(n_iter),theta2_history,'b.', color = 'green')\n",
        "_=ax.plot(range(n_iter),theta3_history,'b.', color = 'blue')\n"
      ],
      "execution_count": 312,
      "outputs": [
        {
          "output_type": "display_data",
          "data": {
            "image/png": "[encoded data removed]",
            "text/plain": [
              "<Figure size 864x576 with 1 Axes>"
            ]
          },
          "metadata": {
            "tags": [],
            "needs_background": "light"
          }
        }
      ]
    },
    {
      "cell_type": "markdown",
      "metadata": {
        "id": "x8ooRpPOSRS6",
        "colab_type": "text"
      },
      "source": [
        "# **2. Plot the training error using the training dataset [4pt]**\n",
        "\n",
        "- plot the training error J(θ0,θ1,θ2,θ3) at every iteration of gradient descent until convergence (in blue color)"
      ]
    },
    {
      "cell_type": "code",
      "metadata": {
        "id": "PT_s4ivZSrAk",
        "colab_type": "code",
        "colab": {
          "base_uri": "https://localhost:8080/",
          "height": 497
        },
        "outputId": "3b5108b6-a94a-4b04-ee93-ee3f3b5ad4a1"
      },
      "source": [
        "fig,ax = plt.subplots(figsize=(12,8))\n",
        "\n",
        "# n_iter = 50\n",
        "# cost_history = new_cost(X_b,y,theta,n_iter)\n",
        "\n",
        "ax.set_ylabel('J(Theta)')\n",
        "ax.set_xlabel('Iterations')\n",
        "_=ax.plot(range(n_iter),cost_history,'b.')\n",
        "\n",
        "# print(cost_history)"
      ],
      "execution_count": 313,
      "outputs": [
        {
          "output_type": "display_data",
          "data": {
            "image/png": "[encoded data removed]",
            "text/plain": [
              "<Figure size 864x576 with 1 Axes>"
            ]
          },
          "metadata": {
            "tags": [],
            "needs_background": "light"
          }
        }
      ]
    },
    {
      "cell_type": "markdown",
      "metadata": {
        "id": "-gTI4LIQSfbD",
        "colab_type": "text"
      },
      "source": [
        "# **3. Plot the testing error using the testing dataset at every iteration of gradient descent until convergence [5pt]**\n",
        "\n",
        "* plot the testing error J(θ0,θ1,θ2,θ3) at every iteration of gradient descent until convergence (in red color)"
      ]
    },
    {
      "cell_type": "code",
      "metadata": {
        "id": "aTu9oYv3SrmQ",
        "colab_type": "code",
        "colab": {}
      },
      "source": [
        "with open('data_test.csv', newline='') as myfile:\n",
        "    reader  = csv.reader(myfile, delimiter=',')\n",
        "    ct = 0 \n",
        "    for i in reader:\n",
        "        # print('[', ct, ']', 'x =', i[0], ', y = ', i[1], ', z = ', i[2], ', h = ', i[3])\n",
        "        test_point[ct][0] = i[0]\n",
        "        test_point[ct][1] = i[1]\n",
        "        test_point[ct][2] = i[2]\n",
        "        y[ct][0] = i[3]\n",
        "        ct += 1"
      ],
      "execution_count": 0,
      "outputs": []
    },
    {
      "cell_type": "code",
      "metadata": {
        "id": "K9gZ8KI7ZIzc",
        "colab_type": "code",
        "colab": {}
      },
      "source": [
        "X = test_point"
      ],
      "execution_count": 0,
      "outputs": []
    },
    {
      "cell_type": "code",
      "metadata": {
        "id": "Kr7IjUXoZP2i",
        "colab_type": "code",
        "colab": {
          "base_uri": "https://localhost:8080/",
          "height": 71
        },
        "outputId": "7f180e27-d8c4-4ae0-dab4-79bb9817d91c"
      },
      "source": [
        "lr =0.0000001\n",
        "n_iter = 1000\n",
        "\n",
        "theta = np.random.randn(4,n_iter + 1)\n",
        "# print(theta)\n",
        "\n",
        "X_b = np.c_[np.ones((len(X),1)),X]\n",
        "X_b = np.array(X_b,dtype=float)\n",
        "# print(X_b.shape)\n",
        "# print(X_b.dtype)\n",
        "# print(y.dtype)\n",
        "theta,cost_history,theta_history = gradient_descent(X_b,y,theta,lr,n_iter)\n",
        "# print(cost_history)\n",
        "\n",
        "# print(theta[1])\n",
        "\n",
        "print('Theta0:          {:0.3f},\\nTheta1:          {:0.3f}'.format(theta[0][0],theta[1][0]))\n",
        "print('Final cost/MSE:  {:0.3f}'.format(cost_history[-1]))"
      ],
      "execution_count": 316,
      "outputs": [
        {
          "output_type": "stream",
          "text": [
            "Theta0:          0.058,\n",
            "Theta1:          0.655\n",
            "Final cost/MSE:  615.993\n"
          ],
          "name": "stdout"
        }
      ]
    },
    {
      "cell_type": "code",
      "metadata": {
        "id": "JulupoF5ZX5_",
        "colab_type": "code",
        "colab": {}
      },
      "source": [
        "# fig,ax = plt.subplots(figsize=(12,8))\n",
        "\n",
        "# theta0_history = []\n",
        "# theta1_history = []\n",
        "# theta2_history = []\n",
        "# theta3_history = []\n",
        "\n",
        "# for it in range(n_iter):\n",
        "#   theta0_history.append(theta_history[it][0])\n",
        "#   theta1_history.append(theta_history[it][1])\n",
        "#   theta2_history.append(theta_history[it][2])\n",
        "#   theta3_history.append(theta_history[it][3])\n",
        "\n",
        "# # print(theta0_history)\n",
        "\n",
        "# ax.set_ylabel('Theta')\n",
        "# ax.set_xlabel('Iterations')\n",
        "# _=ax.plot(range(n_iter),theta0_history,'b.', color = 'black')\n",
        "# _=ax.plot(range(n_iter),theta1_history,'b.', color = 'red')\n",
        "# _=ax.plot(range(n_iter),theta2_history,'b.', color = 'green')\n",
        "# _=ax.plot(range(n_iter),theta3_history,'b.', color = 'blue')\n"
      ],
      "execution_count": 0,
      "outputs": []
    },
    {
      "cell_type": "code",
      "metadata": {
        "id": "fyrONP1bZcL2",
        "colab_type": "code",
        "colab": {
          "base_uri": "https://localhost:8080/",
          "height": 497
        },
        "outputId": "d136291d-551d-4740-904f-e633abf30072"
      },
      "source": [
        "fig,ax = plt.subplots(figsize=(12,8))\n",
        "\n",
        "# n_iter = 50\n",
        "# cost_history = new_cost(X_b,y,theta,n_iter)\n",
        "\n",
        "ax.set_ylabel('J(Theta)')\n",
        "ax.set_xlabel('Iterations')\n",
        "_=ax.plot(range(n_iter),cost_history,'b.')\n",
        "\n",
        "# print(cost_history)"
      ],
      "execution_count": 317,
      "outputs": [
        {
          "output_type": "display_data",
          "data": {
            "image/png": "[encoded data removed]",
            "text/plain": [
              "<Figure size 864x576 with 1 Axes>"
            ]
          },
          "metadata": {
            "tags": [],
            "needs_background": "light"
          }
        }
      ]
    }
  ]
}