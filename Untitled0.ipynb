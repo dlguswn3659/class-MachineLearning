{
  "nbformat": 4,
  "nbformat_minor": 0,
  "metadata": {
    "colab": {
      "name": "Untitled0.ipynb",
      "provenance": [],
      "collapsed_sections": [],
      "authorship_tag": "ABX9TyMjKC45rauzbgTeHKnyvjen",
      "include_colab_link": true
    },
    "kernelspec": {
      "name": "python3",
      "display_name": "Python 3"
    }
  },
  "cells": [
    {
      "cell_type": "markdown",
      "metadata": {
        "id": "view-in-github",
        "colab_type": "text"
      },
      "source": [
        "<a href=\"https://colab.research.google.com/github/dlguswn3659/class-MachineLearning/blob/master/Untitled0.ipynb\" target=\"_parent\"><img src=\"https://colab.research.google.com/assets/colab-badge.svg\" alt=\"Open In Colab\"/></a>"
      ]
    },
    {
      "cell_type": "code",
      "metadata": {
        "id": "pHBrMAU7FA4p",
        "colab_type": "code",
        "outputId": "4d2c0a4f-646c-4140-ebe6-c12942719c2a",
        "colab": {
          "base_uri": "https://localhost:8080/",
          "height": 265
        }
      },
      "source": [
        "import random\n",
        "import matplotlib.pyplot as plt\n",
        "import math\n",
        "\n",
        "# plt.plot([1, 2, 3, 4])\n",
        "# m = 10이라 하고 \\{ (x^{(i)}, y^{(i)}) \\}_{i = 1}^m를 만족하는 m개의 랜덤 좌표 생성\n",
        "# a = 3, b = 21, m = 50\n",
        "\n",
        "x = random.sample(range(-30, 70), 20)\n",
        "x1 = random.sample(range(-30, 70), 20)\n",
        "x2 = random.sample(range(-30, 70), 20)\n",
        "x3 = random.sample(range(-30, 70), 20)\n",
        "\n",
        "# m = random.sample(range(10, 32), 100)\n",
        "y = [3*v for v in x]\n",
        "y1 = [3*v + 10 for v in x1]\n",
        "y2 = [3*v + 32 for v in x2]\n",
        "y3 = [3*v + 42 for v in x3]\n",
        "\n",
        "_x = range(-30, 70)\n",
        "_y = [3*v + 21 for v in _x]\n",
        "\n",
        "plt.plot(x, y, 'ro', color = 'black')\n",
        "plt.plot(x1, y1, 'ro', color = 'black')\n",
        "plt.plot(x2, y2, 'ro', color = 'black')\n",
        "plt.plot(x3, y3, 'ro', color = 'black')\n",
        "\n",
        "plt.plot(_x, _y, 'ro', color = 'blue')\n",
        "# y = [10*v + 5 for v in x]\n",
        "\n",
        "plt.show()\n",
        "   \n",
        "  #  for i in range(11):\n",
        "  #          Bombx = randrange(1,10)\n",
        "  #          BoList.append(newBomb)\n",
        "  #          sumValues =mby = randrange(1,10)\n",
        "  #          newBomb = (Bombx,Bomby)\n",
        "  #          self.Bomb []\n",
        "  #          for (x,y) in self.BombList:\n",
        "  #              value = x+y\n",
        "  #              print(x,y)\n",
        "  #              sumValues.append(value)\n",
        "  #              for value in sumValues:\n",
        "  #                  count = sumValues.count(value)\n",
        "  #                  while count != 1:\n",
        "  #                      Bombx = randrange(1,10)\n",
        "  #                      Bomby = randrange(1,10)\n",
        "  #                      newBomb = (Bombx,Bomby)\n",
        "  #                      oldBomb = (x, y)\n",
        "  #                      print(oldBomb)\n",
        "  #                      self.BombList.remove(oldBomb)\n",
        "  #                      self.BombList.append(newBomb)\n",
        "  #                      count = 1\n",
        "  #          self.buttonNames.remove(newBomb)"
      ],
      "execution_count": 13,
      "outputs": [
        {
          "output_type": "display_data",
          "data": {
            "image/png": "[encoded data removed]",
            "text/plain": [
              "<Figure size 432x288 with 1 Axes>"
            ]
          },
          "metadata": {
            "tags": []
          }
        }
      ]
    },
    {
      "cell_type": "code",
      "metadata": {
        "id": "FZOS7d-NFNAW",
        "colab_type": "code",
        "outputId": "3da4d288-5cf2-4816-a470-052d5ea97151",
        "colab": {
          "base_uri": "https://localhost:8080/",
          "height": 35
        }
      },
      "source": [
        ""
      ],
      "execution_count": 0,
      "outputs": [
        {
          "output_type": "stream",
          "text": [
            "8\n"
          ],
          "name": "stdout"
        }
      ]
    },
    {
      "cell_type": "code",
      "metadata": {
        "id": "hrlt0VFiwD57",
        "colab_type": "code",
        "colab": {
          "base_uri": "https://localhost:8080/",
          "height": 244
        },
        "outputId": "e0c70bca-c66f-4e92-b60d-5bd2d6bd98b5"
      },
      "source": [
        "from sklearn.model_selection import train_test_split\n",
        "from sklearn import linear_model\n",
        "\n",
        "X_train, X_test, y_train, y_test = train_test_split(x, y, test_size=0.1, random_state=10)\n",
        "\n",
        "# print(X_train.shape, X_test.shape, y_train.shape, y_test.shape)\n",
        "\n",
        "def fit(self, X, y, n_iter=10):\n",
        "    \"\"\"정방향 계산을 하고 역방향으로 에러를 전파시키면서 모델을 최적화시킵니다.\"\"\"\n",
        "    for i in range(n_iter):\n",
        "        y_hat = self.forpass(X)\n",
        "        error = y - y_hat\n",
        "        self.backprop(error)\n",
        "        self.update_grad()\n",
        "\n",
        "n1.set_params(5, 1)\n",
        "n1.fit(X_train, y_train, 30000)\n",
        "print('Final W', n1._w)\n",
        "print('Final b', n1._b)\n",
        "\n",
        "sgd_regr = linear_model.SGDRegressor(n_iter=30000, penalty='none')\n",
        "sgd_regr.fit(X_train.reshape(-1, 1), y_train)\n",
        "print('Coefficients: ', sgd_regr.coef_, sgd_regr.intercept_)\n",
        "\n",
        "y_hat = sgd_regr.predict(X_test.reshape(-1, 1))\n",
        "print(metrics.mean_squared_error(y_test, y_hat))\n",
        "\n",
        "y_hat = n1.forpass(X_test)\n",
        "print(np.sum(np.square(y_test - y_hat))/len(X_test))\n",
        "\n",
        "def backprop(self, err, lr=0.1):\n",
        "    \"\"\"에러를 입력받아 가중치와 바이어스의 변화율을 곱하고 평균을 낸 후 감쇠된 변경량을 저장합니다.\"\"\"\n",
        "    m = len(self._x)\n",
        "    self._w_grad = lr * np.sum(err * self._x) / m\n",
        "    self._b_grad = lr * np.sum(err * 1) / m\n",
        "\n",
        "def fit(self, X, y, n_iter=10, lr=0.1, cost_check=False):\n",
        "    \"\"\"정방향 계산을 하고 역방향으로 에러를 전파시키면서 모델을 최적화시킵니다.\"\"\"\n",
        "    cost = []\n",
        "    for i in range(n_iter):\n",
        "        y_hat = self.forpass(X)\n",
        "        error = y - y_hat\n",
        "        self.backprop(error, lr)\n",
        "        self.update_grad()\n",
        "        if cost_check:\n",
        "            cost.append(np.sum(np.square(y - y_hat))/len(y))\n",
        "    return cost\n",
        "\n",
        "costs = []\n",
        "learning_rate = [1.999, 1.0, 0.1]\n",
        "for lr in learning_rate:\n",
        "    n1.set_params(5, 1)\n",
        "    costs.append([])\n",
        "    costs[-1] = n1.fit(X_train, y_train, 2000, lr, True)\n",
        "\n",
        "for i, color in enumerate(['red', 'blue', 'black']):\n",
        "    plt.plot(list(range(2000)), costs[i], color=color)\n",
        "plt.ylim(3500, 7000)\n",
        "plt.show()\n"
      ],
      "execution_count": 22,
      "outputs": [
        {
          "output_type": "error",
          "ename": "NameError",
          "evalue": "ignored",
          "traceback": [
            "\u001b[0;31m---------------------------------------------------------------------------\u001b[0m",
            "\u001b[0;31mNameError\u001b[0m                                 Traceback (most recent call last)",
            "\u001b[0;32m<ipython-input-22-0d4a0662b981>\u001b[0m in \u001b[0;36m<module>\u001b[0;34m()\u001b[0m\n\u001b[1;32m     14\u001b[0m         \u001b[0mself\u001b[0m\u001b[0;34m.\u001b[0m\u001b[0mupdate_grad\u001b[0m\u001b[0;34m(\u001b[0m\u001b[0;34m)\u001b[0m\u001b[0;34m\u001b[0m\u001b[0;34m\u001b[0m\u001b[0m\n\u001b[1;32m     15\u001b[0m \u001b[0;34m\u001b[0m\u001b[0m\n\u001b[0;32m---> 16\u001b[0;31m \u001b[0mn1\u001b[0m\u001b[0;34m.\u001b[0m\u001b[0mset_params\u001b[0m\u001b[0;34m(\u001b[0m\u001b[0;36m5\u001b[0m\u001b[0;34m,\u001b[0m \u001b[0;36m1\u001b[0m\u001b[0;34m)\u001b[0m\u001b[0;34m\u001b[0m\u001b[0;34m\u001b[0m\u001b[0m\n\u001b[0m\u001b[1;32m     17\u001b[0m \u001b[0mn1\u001b[0m\u001b[0;34m.\u001b[0m\u001b[0mfit\u001b[0m\u001b[0;34m(\u001b[0m\u001b[0mX_train\u001b[0m\u001b[0;34m,\u001b[0m \u001b[0my_train\u001b[0m\u001b[0;34m,\u001b[0m \u001b[0;36m30000\u001b[0m\u001b[0;34m)\u001b[0m\u001b[0;34m\u001b[0m\u001b[0;34m\u001b[0m\u001b[0m\n\u001b[1;32m     18\u001b[0m \u001b[0mprint\u001b[0m\u001b[0;34m(\u001b[0m\u001b[0;34m'Final W'\u001b[0m\u001b[0;34m,\u001b[0m \u001b[0mn1\u001b[0m\u001b[0;34m.\u001b[0m\u001b[0m_w\u001b[0m\u001b[0;34m)\u001b[0m\u001b[0;34m\u001b[0m\u001b[0;34m\u001b[0m\u001b[0m\n",
            "\u001b[0;31mNameError\u001b[0m: name 'n1' is not defined"
          ]
        }
      ]
    },
    {
      "cell_type": "code",
      "metadata": {
        "id": "M6zMxC_syoIY",
        "colab_type": "code",
        "colab": {
          "base_uri": "https://localhost:8080/",
          "height": 35
        },
        "outputId": "e8952f78-564b-4b9d-cced-648a0ebc2317"
      },
      "source": [
        "import numpy as np\n",
        "import matplotlib.pyplot as plt\n",
        "%matplotlib inline"
      ],
      "execution_count": 30,
      "outputs": [
        {
          "output_type": "stream",
          "text": [
            "ERROR! Session/line number was not unique in database. History logging moved to new session 62\n"
          ],
          "name": "stdout"
        }
      ]
    },
    {
      "cell_type": "code",
      "metadata": {
        "id": "OazxIKn5yogj",
        "colab_type": "code",
        "colab": {
          "base_uri": "https://localhost:8080/",
          "height": 136
        },
        "outputId": "045c7801-060f-48dd-cc0d-e99540c6804f"
      },
      "source": [
        "plt.style.use(['ggplot']"
      ],
      "execution_count": 29,
      "outputs": [
        {
          "output_type": "error",
          "ename": "SyntaxError",
          "evalue": "ignored",
          "traceback": [
            "\u001b[0;36m  File \u001b[0;32m\"<ipython-input-30-0bdd11f34c32>\"\u001b[0;36m, line \u001b[0;32m1\u001b[0m\n\u001b[0;31m    plt.style.use(['ggplot']\u001b[0m\n\u001b[0m                            ^\u001b[0m\n\u001b[0;31mSyntaxError\u001b[0m\u001b[0;31m:\u001b[0m unexpected EOF while parsing\n"
          ]
        }
      ]
    },
    {
      "cell_type": "markdown",
      "metadata": {
        "id": "olcjXARizM69",
        "colab_type": "text"
      },
      "source": [
        "# **데이터 생성하기**\n",
        "$$ \\theta_0= 21 $$$$ \\theta_1= 3 $$"
      ]
    },
    {
      "cell_type": "code",
      "metadata": {
        "id": "Dp1n3lNgyon_",
        "colab_type": "code",
        "colab": {}
      },
      "source": [
        "X = 2 * np.random.rand(100,1)\n",
        "y = 21 +3 * X+np.random.randn(100,1)"
      ],
      "execution_count": 0,
      "outputs": []
    },
    {
      "cell_type": "code",
      "metadata": {
        "id": "L3VQLmWVyoyX",
        "colab_type": "code",
        "colab": {
          "base_uri": "https://localhost:8080/",
          "height": 287
        },
        "outputId": "b1776d2d-4ef8-4fa5-8a32-3e7183d36a9a"
      },
      "source": [
        "plt.plot(X,y,'b.')\n",
        "plt.xlabel(\"$x$\", fontsize=18)\n",
        "plt.ylabel(\"$y$\", rotation=0, fontsize=18)\n",
        "_ =plt.axis([0,2,0,15])"
      ],
      "execution_count": 28,
      "outputs": [
        {
          "output_type": "display_data",
          "data": {
            "image/png": "[encoded data removed]",
            "text/plain": [
              "<Figure size 432x288 with 1 Axes>"
            ]
          },
          "metadata": {
            "tags": []
          }
        }
      ]
    }
  ]
}