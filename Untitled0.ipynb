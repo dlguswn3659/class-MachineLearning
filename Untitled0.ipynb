{
  "nbformat": 4,
  "nbformat_minor": 0,
  "metadata": {
    "colab": {
      "name": "Untitled0.ipynb",
      "provenance": [],
      "collapsed_sections": [],
      "authorship_tag": "ABX9TyPPeIEDm2RxfTTWmeL/M/DB",
      "include_colab_link": true
    },
    "kernelspec": {
      "name": "python3",
      "display_name": "Python 3"
    }
  },
  "cells": [
    {
      "cell_type": "markdown",
      "metadata": {
        "id": "view-in-github",
        "colab_type": "text"
      },
      "source": [
        "<a href=\"https://colab.research.google.com/github/dlguswn3659/class-MachineLearning/blob/master/Untitled0.ipynb\" target=\"_parent\"><img src=\"https://colab.research.google.com/assets/colab-badge.svg\" alt=\"Open In Colab\"/></a>"
      ]
    },
    {
      "cell_type": "code",
      "metadata": {
        "id": "M6zMxC_syoIY",
        "colab_type": "code",
        "colab": {}
      },
      "source": [
        "import numpy as np\n",
        "import matplotlib.pyplot as plt\n",
        "%matplotlib inline"
      ],
      "execution_count": 0,
      "outputs": []
    },
    {
      "cell_type": "code",
      "metadata": {
        "id": "OazxIKn5yogj",
        "colab_type": "code",
        "colab": {}
      },
      "source": [
        "plt.style.use(['ggplot'])"
      ],
      "execution_count": 0,
      "outputs": []
    },
    {
      "cell_type": "markdown",
      "metadata": {
        "id": "olcjXARizM69",
        "colab_type": "text"
      },
      "source": [
        "# **데이터 생성하기**\n",
        "$$ \\theta_0= 5 $$$$ \\theta_1= 6 $$\n",
        "\n",
        "- generate a set of m point pairs {(x(i),y(i))}i=1m from random perturbations using random function based on a linear function that you define\n",
        "\n",
        "- y^=ax+b where a,b∈R\n",
        "\n",
        "- y=y^+n where n∼N(0,σ2) is drawn from the normal distribution with mean 0 and standard deviation σ\n",
        "\n",
        "- you can choose m,a,b and σ>0\n",
        "\n",
        "**Input data [2pt]**\n",
        "\n",
        "- a straight line that is the graph of a linear function (in blue color)\n",
        "\n",
        "- a set of points that have random perturbations with respect to the straight line (in black color)\n"
      ]
    },
    {
      "cell_type": "code",
      "metadata": {
        "id": "Dp1n3lNgyon_",
        "colab_type": "code",
        "colab": {}
      },
      "source": [
        "X = 2 * np.random.rand(100, 1)\n",
        "y = 5 +6 * X+np.random.randn(100, 1)\n",
        "\n",
        "_x = np.arange(0, 2, 0.01)\n",
        "_y = [5 + 6*v for v in _x]\n"
      ],
      "execution_count": 0,
      "outputs": []
    },
    {
      "cell_type": "code",
      "metadata": {
        "id": "L3VQLmWVyoyX",
        "colab_type": "code",
        "outputId": "05ee02b4-5200-471c-e319-e50e951b554f",
        "colab": {
          "base_uri": "https://localhost:8080/",
          "height": 291
        }
      },
      "source": [
        "plt.plot(X,y,'b.', color = 'black')\n",
        "plt.plot(_x, _y, 'b', color = 'blue')\n",
        "plt.xlabel(\"$x$\", fontsize=18)\n",
        "plt.ylabel(\"$y$\", rotation=0, fontsize=18)\n",
        "_ =plt.axis([0,2,0,20])"
      ],
      "execution_count": 5,
      "outputs": [
        {
          "output_type": "display_data",
          "data": {
            "image/png": "[encoded data removed]",
            "text/plain": [
              "<Figure size 432x288 with 1 Axes>"
            ]
          },
          "metadata": {
            "tags": []
          }
        }
      ]
    },
    {
      "cell_type": "markdown",
      "metadata": {
        "id": "L68fSb0g2fWS",
        "colab_type": "text"
      },
      "source": [
        "# **Linear Model**\n",
        "\n",
        "hθ​(x)=θ0​+θ1​x, where θ=(θ0,θ1) and θ0,θ1∈R\n",
        "\n",
        "\n",
        "**Output results [2pt]**\n",
        "\n",
        "- the set of points that have random perturbations with respect to the straight line (in black color)\n",
        "- a straight line that is the graph of a solution obtained by linear regression (in red color)"
      ]
    },
    {
      "cell_type": "code",
      "metadata": {
        "id": "hZpjxtHB2cGb",
        "colab_type": "code",
        "outputId": "5d728fd2-f247-44a2-8e87-6ea8fe9a586f",
        "colab": {
          "base_uri": "https://localhost:8080/",
          "height": 51
        }
      },
      "source": [
        "X_b = np.c_[np.ones((100,1)),X]\n",
        "theta_best = np.linalg.inv(X_b.T.dot(X_b)).dot(X_b.T).dot(y)\n",
        "print(theta_best)"
      ],
      "execution_count": 6,
      "outputs": [
        {
          "output_type": "stream",
          "text": [
            "[[4.99150721]\n",
            " [5.89888113]]\n"
          ],
          "name": "stdout"
        }
      ]
    },
    {
      "cell_type": "code",
      "metadata": {
        "id": "fKhUHuoM2c2B",
        "colab_type": "code",
        "outputId": "13c66ea0-567d-417d-8609-28fcb7906c5a",
        "colab": {
          "base_uri": "https://localhost:8080/",
          "height": 51
        }
      },
      "source": [
        "X_new = np.array([[0],[2]])\n",
        "X_new_b = np.c_[np.ones((2,1)),X_new]\n",
        "y_predict = X_new_b.dot(theta_best)\n",
        "y_predict"
      ],
      "execution_count": 7,
      "outputs": [
        {
          "output_type": "execute_result",
          "data": {
            "text/plain": [
              "array([[ 4.99150721],\n",
              "       [16.78926948]])"
            ]
          },
          "metadata": {
            "tags": []
          },
          "execution_count": 7
        }
      ]
    },
    {
      "cell_type": "code",
      "metadata": {
        "id": "75tJ51O22eJY",
        "colab_type": "code",
        "outputId": "1bcab948-b8b4-4b57-f097-1d9a63d8f1db",
        "colab": {
          "base_uri": "https://localhost:8080/",
          "height": 308
        }
      },
      "source": [
        "plt.plot(X_new,y_predict,'r-')\n",
        "plt.plot(X,y,'b.', color = 'black')\n",
        "plt.xlabel(\"$x_1$\", fontsize=18)\n",
        "plt.ylabel(\"$y$\", rotation=0, fontsize=18)\n",
        "plt.axis([0,2,0,20])"
      ],
      "execution_count": 8,
      "outputs": [
        {
          "output_type": "execute_result",
          "data": {
            "text/plain": [
              "(0.0, 2.0, 0.0, 20.0)"
            ]
          },
          "metadata": {
            "tags": []
          },
          "execution_count": 8
        },
        {
          "output_type": "display_data",
          "data": {
            "image/png": "[encoded data removed]",
            "text/plain": [
              "<Figure size 432x288 with 1 Axes>"
            ]
          },
          "metadata": {
            "tags": []
          }
        }
      ]
    },
    {
      "cell_type": "markdown",
      "metadata": {
        "id": "Mm-n-kqB3gFy",
        "colab_type": "text"
      },
      "source": [
        "# **Objective Function**\n",
        "\n",
        "- J(θ)=2m1​∑i=1m​(hθ​(x(i))−y(i))2\n",
        "\n",
        "**Plotting the energy values** [3pt]\n",
        "\n",
        "- the value of the objective function at every optimization step by the gradient descent algorithm (in blue color)\n",
        "\n",
        "- the optimization should be performed until convergence\n"
      ]
    },
    {
      "cell_type": "code",
      "metadata": {
        "id": "uiDqU9Ox3Ui6",
        "colab_type": "code",
        "colab": {}
      },
      "source": [
        "def  cal_cost(theta,X,y):\n",
        "    '''\n",
        "    \n",
        "    Calculates the cost for given X and Y. The following shows and example of a single dimensional X\n",
        "    theta = Vector of thetas \n",
        "    X     = Row of X's np.zeros((2,j))\n",
        "    y     = Actual y's np.zeros((2,1))\n",
        "    \n",
        "    where:\n",
        "        j is the no of features\n",
        "    '''\n",
        "    \n",
        "    m = len(y)\n",
        "    \n",
        "    predictions = X.dot(theta)\n",
        "    cost = (1/2*m) * np.sum(np.square(predictions-y))\n",
        "    return cost"
      ],
      "execution_count": 0,
      "outputs": []
    },
    {
      "cell_type": "code",
      "metadata": {
        "id": "GxJssXjo3HnW",
        "colab_type": "code",
        "colab": {}
      },
      "source": [
        "def gradient_descent(X,y,theta,learning_rate=0.01,iterations=100):\n",
        "    '''\n",
        "    X    = Matrix of X with added bias units\n",
        "    y    = Vector of Y\n",
        "    theta=Vector of thetas np.random.randn(j,1)\n",
        "    learning_rate \n",
        "    iterations = no of iterations\n",
        "    \n",
        "    Returns the final theta vector and array of cost history over no of iterations\n",
        "    '''\n",
        "    m = len(y)\n",
        "    cost_history = np.zeros(iterations)\n",
        "    theta_history = np.zeros((iterations,2))\n",
        "    for it in range(iterations):\n",
        "        \n",
        "        prediction = np.dot(X,theta)\n",
        "        \n",
        "        theta = theta -(1/m)*learning_rate*( X.T.dot((prediction - y)))\n",
        "        theta_history[it,:] =theta.T\n",
        "        cost_history[it]  = cal_cost(theta,X,y)\n",
        "        \n",
        "    return theta, cost_history, theta_history"
      ],
      "execution_count": 0,
      "outputs": []
    },
    {
      "cell_type": "code",
      "metadata": {
        "id": "qIrV8bUz3TFn",
        "colab_type": "code",
        "colab": {
          "base_uri": "https://localhost:8080/",
          "height": 68
        },
        "outputId": "18a44db6-13a6-4bf2-d9f0-557e82e4bf81"
      },
      "source": [
        "lr =0.01\n",
        "n_iter = 1000\n",
        "\n",
        "theta = np.random.randn(2,1)\n",
        "\n",
        "X_b = np.c_[np.ones((len(X),1)),X]\n",
        "theta,cost_history,theta_history = gradient_descent(X_b,y,theta,lr,n_iter)\n",
        "\n",
        "\n",
        "print('Theta0:          {:0.3f},\\nTheta1:          {:0.3f}'.format(theta[0][0],theta[1][0]))\n",
        "print('Final cost/MSE:  {:0.3f}'.format(cost_history[-1]))"
      ],
      "execution_count": 11,
      "outputs": [
        {
          "output_type": "stream",
          "text": [
            "Theta0:          5.227,\n",
            "Theta1:          5.687\n",
            "Final cost/MSE:  5747.647\n"
          ],
          "name": "stdout"
        }
      ]
    },
    {
      "cell_type": "code",
      "metadata": {
        "id": "urz-1t0837Vq",
        "colab_type": "code",
        "colab": {
          "base_uri": "https://localhost:8080/",
          "height": 500
        },
        "outputId": "65f69785-3fd4-478d-f9e2-ff3ef047542b"
      },
      "source": [
        "fig,ax = plt.subplots(figsize=(12,8))\n",
        "\n",
        "ax.set_ylabel('J(Theta)')\n",
        "ax.set_xlabel('Iterations')\n",
        "_=ax.plot(range(n_iter),cost_history,'b.')"
      ],
      "execution_count": 12,
      "outputs": [
        {
          "output_type": "display_data",
          "data": {
            "image/png": "[encoded data removed]",
            "text/plain": [
              "<Figure size 864x576 with 1 Axes>"
            ]
          },
          "metadata": {
            "tags": []
          }
        }
      ]
    },
    {
      "cell_type": "markdown",
      "metadata": {
        "id": "OX7poPd05dOH",
        "colab_type": "text"
      },
      "source": [
        "# **Gradient Descent**\n",
        "\n",
        "- θ0(t+1)​=θ0(t)​−αm1​∑i=1m​(hθ​(x(i))−y(i))\n",
        "\n",
        "- θ1(t+1):=θ1(t)−α1m∑i=1m(hθ(x(i))−y(i))x(i)\n",
        "\n",
        "- you can choose a step-size (learning rate) α>0 in R\n",
        "\n",
        "- you can choose any initial conditions for θ0(0) and θ1(0)\n",
        "\n",
        "**Plotting the model parameters** [3pt]\n",
        "\n",
        "- the value of the model parameters θ0 and θ1​ at every optimization step (in red (θ0​) and blue (θ1) colors)\n",
        "\n",
        "- the optimization should be performed until convergence"
      ]
    },
    {
      "cell_type": "code",
      "metadata": {
        "id": "B0OkW38e5dx2",
        "colab_type": "code",
        "colab": {}
      },
      "source": [
        "fig,ax = plt.subplots(figsize=(12,8))\n",
        "\n",
        "ax.set_ylabel('Theta')\n",
        "ax.set_xlabel('Iterations')\n",
        "_=ax.plot(range(n_iter),theta[0],'b.')"
      ],
      "execution_count": 0,
      "outputs": []
    },
    {
      "cell_type": "code",
      "metadata": {
        "id": "OCs__M-I5enD",
        "colab_type": "code",
        "colab": {}
      },
      "source": [
        ""
      ],
      "execution_count": 0,
      "outputs": []
    },
    {
      "cell_type": "code",
      "metadata": {
        "id": "1DHuUuNu5e0N",
        "colab_type": "code",
        "colab": {}
      },
      "source": [
        ""
      ],
      "execution_count": 0,
      "outputs": []
    }
  ]
}