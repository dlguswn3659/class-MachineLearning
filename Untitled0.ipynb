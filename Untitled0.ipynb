{
  "nbformat": 4,
  "nbformat_minor": 0,
  "metadata": {
    "colab": {
      "name": "Untitled0.ipynb",
      "provenance": [],
      "collapsed_sections": [],
      "authorship_tag": "ABX9TyOk0DFGozeu1GZkCFWHfsRO",
      "include_colab_link": true
    },
    "kernelspec": {
      "name": "python3",
      "display_name": "Python 3"
    }
  },
  "cells": [
    {
      "cell_type": "markdown",
      "metadata": {
        "id": "view-in-github",
        "colab_type": "text"
      },
      "source": [
        "<a href=\"https://colab.research.google.com/github/dlguswn3659/class-MachineLearning/blob/master/Untitled0.ipynb\" target=\"_parent\"><img src=\"https://colab.research.google.com/assets/colab-badge.svg\" alt=\"Open In Colab\"/></a>"
      ]
    },
    {
      "cell_type": "code",
      "metadata": {
        "id": "pHBrMAU7FA4p",
        "colab_type": "code",
        "colab": {}
      },
      "source": [
        "# import random\n",
        "# import matplotlib.pyplot as plt\n",
        "# import math\n",
        "\n",
        "# # plt.plot([1, 2, 3, 4])\n",
        "# # m = 10이라 하고 \\{ (x^{(i)}, y^{(i)}) \\}_{i = 1}^m를 만족하는 m개의 랜덤 좌표 생성\n",
        "# # a = 3, b = 21, m = 50\n",
        "\n",
        "# x = random.sample(range(-30, 70), 20)\n",
        "# x1 = random.sample(range(-30, 70), 20)\n",
        "# x2 = random.sample(range(-30, 70), 20)\n",
        "# x3 = random.sample(range(-30, 70), 20)\n",
        "\n",
        "# # m = random.sample(range(10, 32), 100)\n",
        "# y = [3*v for v in x]\n",
        "# y1 = [3*v + 10 for v in x1]\n",
        "# y2 = [3*v + 32 for v in x2]\n",
        "# y3 = [3*v + 42 for v in x3]\n",
        "\n",
        "# _x = range(-30, 70)\n",
        "# _y = [3*v + 21 for v in _x]\n",
        "\n",
        "# plt.plot(x, y, 'ro', color = 'black')\n",
        "# plt.plot(x1, y1, 'ro', color = 'black')\n",
        "# plt.plot(x2, y2, 'ro', color = 'black')\n",
        "# plt.plot(x3, y3, 'ro', color = 'black')\n",
        "\n",
        "# plt.plot(_x, _y, 'ro', color = 'blue')\n",
        "# # y = [10*v + 5 for v in x]\n",
        "\n",
        "# plt.show()\n",
        "   \n",
        "#   #  for i in range(11):\n",
        "#   #          Bombx = randrange(1,10)\n",
        "#   #          BoList.append(newBomb)\n",
        "#   #          sumValues =mby = randrange(1,10)\n",
        "#   #          newBomb = (Bombx,Bomby)\n",
        "#   #          self.Bomb []\n",
        "#   #          for (x,y) in self.BombList:\n",
        "#   #              value = x+y\n",
        "#   #              print(x,y)\n",
        "#   #              sumValues.append(value)\n",
        "#   #              for value in sumValues:\n",
        "#   #                  count = sumValues.count(value)\n",
        "#   #                  while count != 1:\n",
        "#   #                      Bombx = randrange(1,10)\n",
        "#   #                      Bomby = randrange(1,10)\n",
        "#   #                      newBomb = (Bombx,Bomby)\n",
        "#   #                      oldBomb = (x, y)\n",
        "#   #                      print(oldBomb)\n",
        "#   #                      self.BombList.remove(oldBomb)\n",
        "#   #                      self.BombList.append(newBomb)\n",
        "#   #                      count = 1\n",
        "#   #          self.buttonNames.remove(newBomb)"
      ],
      "execution_count": 0,
      "outputs": []
    },
    {
      "cell_type": "code",
      "metadata": {
        "id": "FZOS7d-NFNAW",
        "colab_type": "code",
        "colab": {}
      },
      "source": [
        ""
      ],
      "execution_count": 0,
      "outputs": []
    },
    {
      "cell_type": "code",
      "metadata": {
        "id": "M6zMxC_syoIY",
        "colab_type": "code",
        "colab": {}
      },
      "source": [
        "import numpy as np\n",
        "import matplotlib.pyplot as plt\n",
        "%matplotlib inline"
      ],
      "execution_count": 0,
      "outputs": []
    },
    {
      "cell_type": "code",
      "metadata": {
        "id": "OazxIKn5yogj",
        "colab_type": "code",
        "colab": {}
      },
      "source": [
        "plt.style.use(['ggplot'])"
      ],
      "execution_count": 0,
      "outputs": []
    },
    {
      "cell_type": "markdown",
      "metadata": {
        "id": "olcjXARizM69",
        "colab_type": "text"
      },
      "source": [
        "# **데이터 생성하기**\n",
        "$$ \\theta_0= 5 $$$$ \\theta_1= 6 $$\n",
        "\n",
        "- generate a set of m point pairs {(x(i),y(i))}i=1m from random perturbations using random function based on a linear function that you define\n",
        "\n",
        "- y^=ax+b where a,b∈R\n",
        "\n",
        "- y=y^+n where n∼N(0,σ2) is drawn from the normal distribution with mean 0 and standard deviation σ\n",
        "\n",
        "- you can choose m,a,b and σ>0\n",
        "\n",
        "**Input data [2pt]**\n",
        "\n",
        "- a straight line that is the graph of a linear function (in blue color)\n",
        "\n",
        "- a set of points that have random perturbations with respect to the straight line (in black color)\n"
      ]
    },
    {
      "cell_type": "code",
      "metadata": {
        "id": "Dp1n3lNgyon_",
        "colab_type": "code",
        "colab": {}
      },
      "source": [
        "X = 2 * np.random.rand(100, 1)\n",
        "y = 5 +6 * X+np.random.randn(100, 1)\n",
        "\n",
        "_x = np.arange(0, 2, 0.01)\n",
        "_y = [5 + 6*v for v in _x]\n"
      ],
      "execution_count": 0,
      "outputs": []
    },
    {
      "cell_type": "code",
      "metadata": {
        "id": "L3VQLmWVyoyX",
        "colab_type": "code",
        "colab": {
          "base_uri": "https://localhost:8080/",
          "height": 291
        },
        "outputId": "425b72a6-6151-42a2-d9f9-bfe7fa1c5389"
      },
      "source": [
        "plt.plot(X,y,'b.', color = 'black')\n",
        "plt.plot(_x, _y, 'b', color = 'blue')\n",
        "plt.xlabel(\"$x$\", fontsize=18)\n",
        "plt.ylabel(\"$y$\", rotation=0, fontsize=18)\n",
        "_ =plt.axis([0,2,0,20])"
      ],
      "execution_count": 62,
      "outputs": [
        {
          "output_type": "display_data",
          "data": {
            "image/png": "[encoded data removed]",
            "text/plain": [
              "<Figure size 432x288 with 1 Axes>"
            ]
          },
          "metadata": {
            "tags": []
          }
        }
      ]
    },
    {
      "cell_type": "markdown",
      "metadata": {
        "id": "L68fSb0g2fWS",
        "colab_type": "text"
      },
      "source": [
        "# **Linear Model**\n",
        "\n",
        "hθ​(x)=θ0​+θ1​x, where θ=(θ0,θ1) and θ0,θ1∈R\n",
        "\n",
        "\n",
        "**Output results [2pt]**\n",
        "\n",
        "- the set of points that have random perturbations with respect to the straight line (in black color)\n",
        "- a straight line that is the graph of a solution obtained by linear regression (in red color)"
      ]
    },
    {
      "cell_type": "code",
      "metadata": {
        "id": "hZpjxtHB2cGb",
        "colab_type": "code",
        "colab": {}
      },
      "source": [
        ""
      ],
      "execution_count": 0,
      "outputs": []
    },
    {
      "cell_type": "code",
      "metadata": {
        "id": "fKhUHuoM2c2B",
        "colab_type": "code",
        "colab": {}
      },
      "source": [
        ""
      ],
      "execution_count": 0,
      "outputs": []
    },
    {
      "cell_type": "code",
      "metadata": {
        "id": "75tJ51O22eJY",
        "colab_type": "code",
        "colab": {}
      },
      "source": [
        ""
      ],
      "execution_count": 0,
      "outputs": []
    }
  ]
}