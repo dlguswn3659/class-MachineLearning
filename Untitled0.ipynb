{
  "nbformat": 4,
  "nbformat_minor": 0,
  "metadata": {
    "colab": {
      "name": "Untitled0.ipynb",
      "provenance": [],
      "collapsed_sections": [],
      "authorship_tag": "ABX9TyPSFPOzxPbaiDYLx0NqEHs0",
      "include_colab_link": true
    },
    "kernelspec": {
      "name": "python3",
      "display_name": "Python 3"
    }
  },
  "cells": [
    {
      "cell_type": "markdown",
      "metadata": {
        "id": "view-in-github",
        "colab_type": "text"
      },
      "source": [
        "<a href=\"https://colab.research.google.com/github/dlguswn3659/class-MachineLearning/blob/master/Untitled0.ipynb\" target=\"_parent\"><img src=\"https://colab.research.google.com/assets/colab-badge.svg\" alt=\"Open In Colab\"/></a>"
      ]
    },
    {
      "cell_type": "code",
      "metadata": {
        "id": "pHBrMAU7FA4p",
        "colab_type": "code",
        "colab": {
          "base_uri": "https://localhost:8080/",
          "height": 265
        },
        "outputId": "af40d523-8d8b-41bf-8aea-7b7b044c2af9"
      },
      "source": [
        "import random\n",
        "import matplotlib.pyplot as plt\n",
        "import math\n",
        "\n",
        "# plt.plot([1, 2, 3, 4])\n",
        "# m = 10이라 하고 \\{ (x^{(i)}, y^{(i)}) \\}_{i = 1}^m를 만족하는 m개의 랜덤 좌표 생성\n",
        "x = random.sample(range(1, 100), 10)\n",
        "y = random.sample(range(1, 100), 10)\n",
        "\n",
        "_x = range(0, 100)\n",
        "_y = [1*v + 5 for v in _x]\n",
        "\n",
        "plt.plot(x, y, 'ro')\n",
        "plt.plot(_x, _y, 'ro')\n",
        "# y = [10*v + 5 for v in x]\n",
        "\n",
        "plt.show()\n",
        "   \n",
        "  #  for i in range(11):\n",
        "  #          Bombx = randrange(1,10)\n",
        "  #          BoList.append(newBomb)\n",
        "  #          sumValues =mby = randrange(1,10)\n",
        "  #          newBomb = (Bombx,Bomby)\n",
        "  #          self.Bomb []\n",
        "  #          for (x,y) in self.BombList:\n",
        "  #              value = x+y\n",
        "  #              print(x,y)\n",
        "  #              sumValues.append(value)\n",
        "  #              for value in sumValues:\n",
        "  #                  count = sumValues.count(value)\n",
        "  #                  while count != 1:\n",
        "  #                      Bombx = randrange(1,10)\n",
        "  #                      Bomby = randrange(1,10)\n",
        "  #                      newBomb = (Bombx,Bomby)\n",
        "  #                      oldBomb = (x, y)\n",
        "  #                      print(oldBomb)\n",
        "  #                      self.BombList.remove(oldBomb)\n",
        "  #                      self.BombList.append(newBomb)\n",
        "  #                      count = 1\n",
        "  #          self.buttonNames.remove(newBomb)"
      ],
      "execution_count": 4,
      "outputs": [
        {
          "output_type": "display_data",
          "data": {
            "image/png": "[encoded data removed]",
            "text/plain": [
              "<Figure size 432x288 with 1 Axes>"
            ]
          },
          "metadata": {
            "tags": []
          }
        }
      ]
    },
    {
      "cell_type": "code",
      "metadata": {
        "id": "FZOS7d-NFNAW",
        "colab_type": "code",
        "outputId": "3da4d288-5cf2-4816-a470-052d5ea97151",
        "colab": {
          "base_uri": "https://localhost:8080/",
          "height": 35
        }
      },
      "source": [
        ""
      ],
      "execution_count": 0,
      "outputs": [
        {
          "output_type": "stream",
          "text": [
            "8\n"
          ],
          "name": "stdout"
        }
      ]
    }
  ]
} 
