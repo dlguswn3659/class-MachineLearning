{
  "nbformat": 4,
  "nbformat_minor": 0,
  "metadata": {
    "colab": {
      "name": "Untitled3.ipynb",
      "provenance": [],
      "authorship_tag": "ABX9TyO5KVOflacKpDcjKwVmEumY",
      "include_colab_link": true
    },
    "kernelspec": {
      "name": "python3",
      "display_name": "Python 3"
    }
  },
  "cells": [
    {
      "cell_type": "markdown",
      "metadata": {
        "id": "view-in-github",
        "colab_type": "text"
      },
      "source": [
        "<a href=\"https://colab.research.google.com/github/dlguswn3659/class-MachineLearning/blob/master/assignment05-6.ipynb\" target=\"_parent\"><img src=\"https://colab.research.google.com/assets/colab-badge.svg\" alt=\"Open In Colab\"/></a>"
      ]
    },
    {
      "cell_type": "markdown",
      "metadata": {
        "id": "2tvbBN2FT3Q7",
        "colab_type": "text"
      },
      "source": [
        "# **Machine Learning Assignment05** #\n",
        "\n",
        "Name : 이현주\n",
        "\n",
        "Student # : 20184060"
      ]
    },
    {
      "cell_type": "markdown",
      "metadata": {
        "id": "kyJ8nEOjT31U",
        "colab_type": "text"
      },
      "source": [
        "# **1. Plot the training data [2pt]**\n",
        "\n",
        "- plot the training data points (x,y) with their labels / in colors (blue for label 0 and red for label 1)"
      ]
    },
    {
      "cell_type": "code",
      "metadata": {
        "id": "EGMfwbsbT4EJ",
        "colab_type": "code",
        "colab": {
          "base_uri": "https://localhost:8080/",
          "height": 482
        },
        "outputId": "9e9bc5d4-ffcb-415b-d8b5-87f17f94fc1c"
      },
      "source": [
        "%matplotlib inline\n",
        "import numpy as np\n",
        "import matplotlib.pyplot as plt\n",
        "import matplotlib as mpl\n",
        "import seaborn as sns\n",
        "import matplotlib.animation as animation\n",
        "from scipy import stats \n",
        "from mpl_toolkits.mplot3d import Axes3D\n",
        "from sklearn.datasets.samples_generator import make_regression \n",
        "import csv\n",
        "import math\n",
        "# from google.colab import files\n",
        "\n",
        "# uploaded = files.upload()\n",
        "\n",
        "data    = np.genfromtxt(\"data.txt\", delimiter=',')\n",
        "\n",
        "x       = data[:, 0]\n",
        "y       = data[:, 1]\n",
        "label   = data[:, 2]\n",
        "\n",
        "x_label0    = x[label == 0]\n",
        "x_label1    = x[label == 1]\n",
        "\n",
        "y_label0    = y[label == 0]\n",
        "y_label1    = y[label == 1]\n",
        "\n",
        "plt.figure(figsize=(8, 8))\n",
        "plt.scatter(x_label0, y_label0, alpha=0.3, c='b')\n",
        "plt.scatter(x_label1, y_label1, alpha=0.3, c='r')\n",
        "plt.show()"
      ],
      "execution_count": 13,
      "outputs": [
        {
          "output_type": "display_data",
          "data": {
            "image/png": "[encoded data removed]",
            "text/plain": [
              "<Figure size 576x576 with 1 Axes>"
            ]
          },
          "metadata": {
            "tags": [],
            "needs_background": "light"
          }
        }
      ]
    },
    {
      "cell_type": "markdown",
      "metadata": {
        "id": "0Bu4s4L0UpMe",
        "colab_type": "text"
      },
      "source": [
        "# **2. Plot the estimated parameters [3pt]**\n",
        "\n",
        "- plot the estimated parameters (θ0,θ1,θ2) at every iteration of gradient descent until convergence\n",
        "- the colors for the parameters (θ0,θ1,θ2) should be red, green, blue, respectively"
      ]
    },
    {
      "cell_type": "code",
      "metadata": {
        "id": "Xb3kaDt1U43m",
        "colab_type": "code",
        "colab": {
          "base_uri": "https://localhost:8080/",
          "height": 35
        },
        "outputId": "4da451ec-96d2-41f4-9aa1-a75309f09af0"
      },
      "source": [
        "X = x #전체 x\n",
        "y = np.array(y,dtype=float)\n",
        "label = np.array(label,dtype=float)\n",
        "print(len(y))\n",
        "# print(X)\n",
        "# print(y)\n",
        "# print(label)"
      ],
      "execution_count": 60,
      "outputs": [
        {
          "output_type": "stream",
          "text": [
            "100\n"
          ],
          "name": "stdout"
        }
      ]
    },
    {
      "cell_type": "code",
      "metadata": {
        "id": "sX4wx6YtU5gM",
        "colab_type": "code",
        "colab": {}
      },
      "source": [
        "def gradient_descent(X,y,label,theta,learning_rate=0.0000001,iterations=100000):\n",
        "    \n",
        "    m = len(y)\n",
        "\n",
        "    cost_history = np.zeros(iterations)\n",
        "    theta_history = np.zeros((iterations,3))\n",
        "    for it in range(iterations):\n",
        "        pred = 0\n",
        "        pred0 = 0\n",
        "        pred1 = 0\n",
        "        pred2 = 0\n",
        "\n",
        "        for i in range(0, m):\n",
        "          # print(i)\n",
        "          #cost 함수\n",
        "          pred = pred + ((-1)*label[i]*math.log(1/(1 + math.exp((-1)*(theta[0][it] + theta[1][it]*X[i] + theta[2][it]*y[i]))))-((1-label[i])*math.log(1 - (-1)*(1/(1 + math.exp((-1)*(theta[0][it] + theta[1][it]*X[i] + theta[2][it]*y[i])))))))\n",
        "          \n",
        "          #  σ(z)   =    (1/(1 + math.exp((-1)*(theta[0][it] + theta[1][it]*X[i] + theta[2][it]*y[i]))))\n",
        "\n",
        "          #theta함수\n",
        "          pred0 = pred0 + ((1/(1 + math.exp((-1)*(theta[0][it] + theta[1][it]*X[i] + theta[2][it]*y[i])))) - label[i])\n",
        "          pred1 = pred1 + ((1/(1 + math.exp((-1)*(theta[0][it] + theta[1][it]*X[i] + theta[2][it]*y[i])))) - label[i])*X[i]\n",
        "          pred2 = pred2 + ((1/(1 + math.exp((-1)*(theta[0][it] + theta[1][it]*X[i] + theta[2][it]*y[i])))) - label[i])*y[i]\n",
        "        \n",
        "        theta[0][it + 1] = theta[0][it] - (1/m)*learning_rate*pred0\n",
        "        theta[1][it + 1] = theta[1][it] - (1/m)*learning_rate*pred1\n",
        "        theta[2][it + 1] = theta[2][it] - (1/m)*learning_rate*pred2\n",
        "\n",
        "        theta_history[it][0] = theta[0][it]\n",
        "        theta_history[it][1] = theta[1][it]\n",
        "        theta_history[it][2] = theta[2][it]\n",
        "        cost_history[it]  = (1/m) * pred\n",
        "        \n",
        "    return theta, cost_history, theta_history"
      ],
      "execution_count": 0,
      "outputs": []
    },
    {
      "cell_type": "code",
      "metadata": {
        "id": "DTFFpCxlhWE8",
        "colab_type": "code",
        "colab": {}
      },
      "source": [
        "lr =0.0000001\n",
        "n_iter = 1000000\n",
        "\n",
        "theta = np.ones((3, n_iter + 1))\n",
        "theta[0][0] = -0.8\n",
        "theta[1][0] = 0.2\n",
        "theta[2][0] = -0.2\n",
        "\n",
        "X_b = np.c_[np.ones((len(X),0)),X]\n",
        "X_b = np.array(X_b,dtype=float)\n",
        "# print(X_b.shape)\n",
        "# print(X_b.dtype)\n",
        "# print(y.dtype)\n",
        "theta,cost_history,theta_history = gradient_descent(X_b,y,label,theta,lr,n_iter)"
      ],
      "execution_count": 0,
      "outputs": []
    },
    {
      "cell_type": "code",
      "metadata": {
        "id": "nP3lSeWm1qSc",
        "colab_type": "code",
        "colab": {}
      },
      "source": [
        "fig,ax = plt.subplots(figsize=(12,8))\n",
        "\n",
        "theta0_history = []\n",
        "theta1_history = []\n",
        "theta2_history = []\n",
        "\n",
        "for it in range(n_iter):\n",
        "  theta0_history.append(theta_history[it][0])\n",
        "  theta1_history.append(theta_history[it][1])\n",
        "  theta2_history.append(theta_history[it][2])\n",
        "\n",
        "# print(theta0_history)\n",
        "# print(n_iter)\n",
        "# print(theta_history[1000000][0])\n",
        "# print(theta_history[1000000][1])\n",
        "# print(theta_history[1000000][2])\n",
        "\n",
        "# theta0_best = theta_history[1000000][0]\n",
        "# theta1_best = theta_history[1000000][1]\n",
        "# theta2_best = theta_history[1000000][2]\n",
        "\n"
      ],
      "execution_count": 0,
      "outputs": []
    },
    {
      "cell_type": "code",
      "metadata": {
        "id": "3i3kCIQk3KHn",
        "colab_type": "code",
        "colab": {
          "base_uri": "https://localhost:8080/",
          "height": 497
        },
        "outputId": "60f7da1c-eaac-4028-c40b-bb4aed01f9fb"
      },
      "source": [
        "fig,ax = plt.subplots(figsize=(12,8))\n",
        "\n",
        "theta0_history = []\n",
        "theta1_history = []\n",
        "theta2_history = []\n",
        "\n",
        "for it in range(n_iter):\n",
        "  theta0_history.append(theta_history[it][0])\n",
        "  theta1_history.append(theta_history[it][1])\n",
        "  theta2_history.append(theta_history[it][2])\n",
        "\n",
        "ax.set_ylabel('Theta')\n",
        "ax.set_xlabel('Iterations')\n",
        "_=ax.plot(range(n_iter),theta0_history,'b.', color = 'red')\n",
        "_=ax.plot(range(n_iter),theta1_history,'b.', color = 'green')\n",
        "_=ax.plot(range(n_iter),theta2_history,'b.', color = 'blue')"
      ],
      "execution_count": 65,
      "outputs": [
        {
          "output_type": "display_data",
          "data": {
            "image/png": "[encoded data removed]",
            "text/plain": [
              "<Figure size 864x576 with 1 Axes>"
            ]
          },
          "metadata": {
            "tags": [],
            "needs_background": "light"
          }
        }
      ]
    },
    {
      "cell_type": "code",
      "metadata": {
        "id": "vfEgwgp03g6e",
        "colab_type": "code",
        "colab": {}
      },
      "source": [
        "# print(theta0_history[999999])\n",
        "# print(theta1_history[999999])\n",
        "# print(theta2_history[999999])\n",
        "\n",
        "# theta0_best = theta0_history[999999]\n",
        "# theta1_best = theta1_history[999999]\n",
        "# theta2_best = theta2_history[999999]"
      ],
      "execution_count": 0,
      "outputs": []
    },
    {
      "cell_type": "code",
      "metadata": {
        "id": "hRx08Y7lq5GH",
        "colab_type": "code",
        "colab": {}
      },
      "source": [
        "# X_b = np.c_[np.ones((100,1)),X]\n",
        "# theta_best = np.linalg.inv(X_b.T.dot(X_b)).dot(X_b.T).dot(y)\n",
        "# print(theta_best)"
      ],
      "execution_count": 0,
      "outputs": []
    },
    {
      "cell_type": "markdown",
      "metadata": {
        "id": "HmY2rnBLU5zT",
        "colab_type": "text"
      },
      "source": [
        "# **3. Plot the training error [3pt]**\n",
        "\n",
        "* plot the training error J(θ0,θ1,θ2) at every iteration of gradient descent until convergence (in blue color)"
      ]
    },
    {
      "cell_type": "code",
      "metadata": {
        "id": "azbikC67-88N",
        "colab_type": "code",
        "colab": {}
      },
      "source": [
        "lr =0.00001\n",
        "n_iter = 500\n",
        "\n",
        "theta = np.zeros((3, n_iter + 1))\n",
        "\n",
        "X_b = np.c_[np.ones((len(X),0)),X]\n",
        "X_b = np.array(X_b,dtype=float)\n",
        "# print(X_b.shape)\n",
        "# print(X_b.dtype)\n",
        "# print(y.dtype)\n",
        "theta,cost_history,theta_history = gradient_descent(X_b,y,label,theta,lr,n_iter)"
      ],
      "execution_count": 0,
      "outputs": []
    },
    {
      "cell_type": "code",
      "metadata": {
        "id": "ud9X_-9wVCmO",
        "colab_type": "code",
        "colab": {
          "base_uri": "https://localhost:8080/",
          "height": 497
        },
        "outputId": "bdce2d51-2b36-49df-f8e7-d60cc3001ae8"
      },
      "source": [
        "fig,ax = plt.subplots(figsize=(12,8))\n",
        "\n",
        "# n_iter = 50\n",
        "# cost_history = new_cost(X_b,y,theta,n_iter)\n",
        "\n",
        "ax.set_ylabel('J(Theta)')\n",
        "ax.set_xlabel('Iterations')\n",
        "_=ax.plot(range(n_iter),cost_history,'b.')"
      ],
      "execution_count": 70,
      "outputs": [
        {
          "output_type": "display_data",
          "data": {
            "image/png": "[encoded data removed]",
            "text/plain": [
              "<Figure size 864x576 with 1 Axes>"
            ]
          },
          "metadata": {
            "tags": [],
            "needs_background": "light"
          }
        }
      ]
    },
    {
      "cell_type": "markdown",
      "metadata": {
        "id": "FaOR8fK0VDKF",
        "colab_type": "text"
      },
      "source": [
        "# **4. Plot the obtained classifier [4pt]**\n",
        "\n",
        "- plot the classifier σ(z) where z=θ0+θ1x+θ2y with x=[30:0.5:100] and y=[30:0.5:100]\n",
        "- [a:t:b] denotes a range of values from a to b with a stepsize t\n",
        "- use a colormap where blue is used for 0, red is used for 1, their weighted combination for a value between 0 and 1\n",
        "- plot the training data points (x,y) with their labels / in colors (blue for label 0 and red for label 1) superimposed on the classifier"
      ]
    },
    {
      "cell_type": "code",
      "metadata": {
        "id": "mR8qBZrdERWV",
        "colab_type": "code",
        "colab": {}
      },
      "source": [
        "#classifier 정의하기\n",
        "#  σ(z)   =    (1/(1 + math.exp((-1)*(theta[0][it] + theta[1][it]*X[i] + theta[2][it]*y[i]))))\n",
        "#  σ(z)   =    (1/(1 + math.exp((-1)*(theta[0][500000] + theta[1][500000]*X + theta[2][500000]*y))))"
      ],
      "execution_count": 0,
      "outputs": []
    },
    {
      "cell_type": "code",
      "metadata": {
        "id": "MNJAVWvvVoQc",
        "colab_type": "code",
        "colab": {}
      },
      "source": [
        "# from itertools import product\n",
        "# import numpy as np\n",
        "# import matplotlib.pyplot as plt\n",
        "\n",
        "# from sklearn import datasets\n",
        "# from sklearn.tree import DecisionTreeClassifier\n",
        "# from sklearn.neighbors import KNeighborsClassifier\n",
        "# from sklearn.svm import SVC\n",
        "# from sklearn.ensemble import VotingClassifier\n",
        "\n",
        "# # Loading some example data\n",
        "# iris = datasets.load_iris()\n",
        "# X = iris.data[:, [1]]\n",
        "# y = iris.target\n",
        "\n",
        "# print(X)\n",
        "# print(y)\n",
        "\n",
        "# # Training classifiers\n",
        "# clf1 = DecisionTreeClassifier(max_depth=4)\n",
        "# clf2 = KNeighborsClassifier(n_neighbors=7)\n",
        "# clf3 = SVC(kernel='rbf', probability=True)\n",
        "# eclf = VotingClassifier(estimators=[('dt', clf1), ('knn', clf2),\n",
        "#                                     ('svc', clf3)],\n",
        "#                         voting='soft', weights=[2, 1, 2])\n",
        "\n",
        "# clf1.fit(X, y)\n",
        "# clf2.fit(X, y)\n",
        "# clf3.fit(X, y)\n",
        "# eclf.fit(X, y)"
      ],
      "execution_count": 0,
      "outputs": []
    },
    {
      "cell_type": "code",
      "metadata": {
        "id": "GxMlx8p9VosP",
        "colab_type": "code",
        "colab": {}
      },
      "source": [
        "# # Plotting decision regions\n",
        "# xx, yy = np.meshgrid(np.arange(0, 2, 0.01),\n",
        "#                      np.arange(0, 2, 0.01))\n",
        "# # xx, yy = np.meshgrid(np.arange(30, 100, 0.5),\n",
        "# #                      np.arange(30, 100, 0.5))\n",
        "\n",
        "# f, axarr = plt.subplots(2, 2, sharex='col', sharey='row', figsize=(10, 8))\n",
        "\n",
        "# for idx, clf, tt in zip(product([0, 1], [0, 1]),\n",
        "#                         [clf1, clf2, clf3, eclf],\n",
        "#                         ['Decision Tree (depth=4)', 'KNN (k=7)',\n",
        "#                          'Kernel SVM', 'Soft Voting']):\n",
        "\n",
        "#     Z = clf.predict(np.c_[xx.ravel(), yy.ravel()])\n",
        "#     Z = Z.reshape(xx.shape)\n",
        "\n",
        "#     axarr[idx[0], idx[1]].contourf(xx, yy, Z, alpha=0.4)\n",
        "#     axarr[idx[0], idx[1]].scatter(X[:, 0], X[:, 1], c=y,\n",
        "#                                   s=20, edgecolor='k')\n",
        "#     axarr[idx[0], idx[1]].set_title(tt)\n",
        "\n",
        "# plt.show()"
      ],
      "execution_count": 0,
      "outputs": []
    },
    {
      "cell_type": "code",
      "metadata": {
        "id": "Jw9pwm3yRY0D",
        "colab_type": "code",
        "colab": {
          "base_uri": "https://localhost:8080/",
          "height": 497
        },
        "outputId": "2c436339-6ce6-41bd-f5ec-f7f4f01b04ee"
      },
      "source": [
        "#heatmap을 사용하면서 x축과 y축 값 증가 방향이 변화하여 점 분포가 기존에서 회전하고 뒤집어짐\n",
        "\n",
        "import seaborn as sn\n",
        "import pandas as pd\n",
        "import matplotlib.pyplot as plt\n",
        "\n",
        "array = np.zeros((140, 140))\n",
        "# print(array)\n",
        "\n",
        "theta0_best = -0.8059904497313255\n",
        "theta1_best = 0.016538778155258838\n",
        "theta2_best = 0.006259696713467998\n",
        "\n",
        "#i를 X, j를 y라 한 상황\n",
        "for i in np.arange(30, 100, 0.5):\n",
        "  for j in np.arange(30, 100, 0.5):\n",
        "    # print((j - 30) * 2)\n",
        "    # tmp = (1/(1 + math.exp((-1)*((theta0_best) + theta1_best*i + theta2_best*j))))\n",
        "    # if(tmp >= 0.65):\n",
        "    #     tmp = 1\n",
        "    # else:\n",
        "    #     tmp = 0\n",
        "    \n",
        "    # array[(int((i - 30) * 2))][int((j - 30) * 2)] = (1/(1 + math.exp((-1)*((theta0_best) + theta1_best*x[(int((i - 30) * 2))] + theta2_best*y[(int((j - 30) * 2))]))))\n",
        "    array[(int((i - 30) * 2))][int((j - 30) * 2)] = (1/(1 + math.exp((-1)*((theta0_best) + theta1_best*i + theta2_best*j))))\n",
        "    # array[(int((i - 30) * 2))][int((j - 30) * 2)] = tmp\n",
        "\n",
        "# print(array)\n",
        "#비율 맞추기\n",
        "x_label0 = (x_label0 - 30)*2\n",
        "x_label1 = (x_label1 - 30)*2\n",
        "y_label0 = (y_label0 - 30)*2\n",
        "y_label1 = (y_label1 - 30)*2\n",
        "\n",
        "df_cm = pd.DataFrame(array, index = [i for i in np.arange(30,100,0.5)],\n",
        "                  columns = [i for i in np.arange(30,100,0.5)])\n",
        "# df_cm = pd.DataFrame(array)\n",
        "plt.figure(figsize=(8, 8))\n",
        "\n",
        "sn.heatmap(df_cm, cmap = \"coolwarm\")\n",
        "plt.scatter(x_label0, y_label0, alpha=0.3, c='b')\n",
        "plt.scatter(x_label1, y_label1, alpha=0.3, c='r')\n",
        "plt.show()"
      ],
      "execution_count": 14,
      "outputs": [
        {
          "output_type": "display_data",
          "data": {
            "image/png": "[encoded data removed]",
            "text/plain": [
              "<Figure size 576x576 with 2 Axes>"
            ]
          },
          "metadata": {
            "tags": [],
            "needs_background": "light"
          }
        }
      ]
    }
  ]
}