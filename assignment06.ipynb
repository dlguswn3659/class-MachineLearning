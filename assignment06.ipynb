{
  "nbformat": 4,
  "nbformat_minor": 0,
  "metadata": {
    "colab": {
      "name": "assignment06.ipynb",
      "provenance": [],
      "authorship_tag": "ABX9TyP6FVp9oIWVqptdWGHJYooT",
      "include_colab_link": true
    },
    "kernelspec": {
      "name": "python3",
      "display_name": "Python 3"
    }
  },
  "cells": [
    {
      "cell_type": "markdown",
      "metadata": {
        "id": "view-in-github",
        "colab_type": "text"
      },
      "source": [
        "<a href=\"https://colab.research.google.com/github/dlguswn3659/class-MachineLearning/blob/master/assignment06.ipynb\" target=\"_parent\"><img src=\"https://colab.research.google.com/assets/colab-badge.svg\" alt=\"Open In Colab\"/></a>"
      ]
    },
    {
      "cell_type": "markdown",
      "metadata": {
        "id": "pMcbWdbh98uY",
        "colab_type": "text"
      },
      "source": [
        "# **Machine Learning Assignment06** #\n",
        "\n",
        "Name : 이현주\n",
        "\n",
        "Student # : 20184060"
      ]
    },
    {
      "cell_type": "markdown",
      "metadata": {
        "id": "SmK4D4Gm-Owm",
        "colab_type": "text"
      },
      "source": [
        "# **1. Plot the training data [2pt]**\n",
        "\n",
        "- plot the training data points (x,y) with their labels / in colors (blue for label 0 and red for label 1)"
      ]
    },
    {
      "cell_type": "code",
      "metadata": {
        "id": "xPQTutBY9LYV",
        "colab_type": "code",
        "colab": {
          "base_uri": "https://localhost:8080/",
          "height": 296
        },
        "outputId": "7e0b9d7f-2c39-4a1f-bb41-41b133289b13"
      },
      "source": [
        "%matplotlib inline\n",
        "import numpy as np\n",
        "import matplotlib.pyplot as plt\n",
        "import matplotlib as mpl\n",
        "import seaborn as sns\n",
        "import matplotlib.animation as animation\n",
        "from scipy import stats \n",
        "from mpl_toolkits.mplot3d import Axes3D\n",
        "from sklearn.datasets.samples_generator import make_regression \n",
        "import csv\n",
        "import math\n",
        "# from google.colab import files\n",
        "\n",
        "# uploaded = files.upload()\n",
        "\n",
        "data    = np.genfromtxt(\"data-nonlinear.txt\", delimiter=',')\n",
        "\n",
        "pointX  = data[:, 0]\n",
        "pointY  = data[:, 1]\n",
        "label   = data[:, 2]\n",
        "\n",
        "pointX0 = pointX[label == 0]\n",
        "pointY0 = pointY[label == 0]\n",
        "\n",
        "pointX1 = pointX[label == 1]\n",
        "pointY1 = pointY[label == 1]\n",
        "\n",
        "plt.figure()\n",
        "plt.scatter(pointX0, pointY0, c='b')\n",
        "plt.scatter(pointX1, pointY1, c='r')\n",
        "plt.tight_layout()\n",
        "plt.gca().set_aspect('equal', adjustable='box')\n",
        "plt.show()"
      ],
      "execution_count": 60,
      "outputs": [
        {
          "output_type": "display_data",
          "data": {
            "image/png": "[encoded data removed]",
            "text/plain": [
              "<Figure size 432x288 with 1 Axes>"
            ]
          },
          "metadata": {
            "tags": [],
            "needs_background": "light"
          }
        }
      ]
    },
    {
      "cell_type": "markdown",
      "metadata": {
        "id": "ZqqLOKHkCI_o",
        "colab_type": "text"
      },
      "source": [
        "# **2. Write down the high dimensional function g(x,y;θ) [2pt]**\n",
        "\n",
        "- write down the equation for the non-linear function g(x,y;θ) used for the classifier in LaTeX format"
      ]
    },
    {
      "cell_type": "markdown",
      "metadata": {
        "id": "oJW9KhFyKgRd",
        "colab_type": "text"
      },
      "source": [
        "$$\n",
        "g(x, y; \\theta) = \\theta_0f_0(x, y) + \\theta_1f_1(x, y) + ⋯ + \\theta_{k-1}f_{k-1}(x, y)\\\\\n",
        "$$\n",
        "\n",
        "\n",
        "$$\n",
        "g(x, y; \\theta) = \\theta_0 + \\theta_1x + \\theta_2y + \\theta_3x^2 + \\theta_4xy + \\theta_5y^2 + \\theta_6x^3 + \\theta_7x^2y + \\theta_8xy^2 + \\theta_9y^3 + \\theta_{10}x^4 + \\theta_{11}x^3y + \\theta_{12}x^2y^2 + \\theta_{13}xy^3 + \\theta_{14}y^4 + \\theta_{15}x^5\n",
        "$$"
      ]
    },
    {
      "cell_type": "markdown",
      "metadata": {
        "id": "mujVAKAmCNjP",
        "colab_type": "text"
      },
      "source": [
        "# **3. Plot the training error [3pt]**\n",
        "\n",
        "- plot the training error J(θ) at every iteration of gradient descent until convergence (in blue color)"
      ]
    },
    {
      "cell_type": "code",
      "metadata": {
        "id": "1mEMEUWYDPWo",
        "colab_type": "code",
        "colab": {
          "base_uri": "https://localhost:8080/",
          "height": 33
        },
        "outputId": "783e8dd0-b7d3-4a51-9631-25d970d518bf"
      },
      "source": [
        "X = pointX #전체 x\n",
        "y = np.array(pointY,dtype=float)\n",
        "label = np.array(label,dtype=float)\n",
        "print(len(y))"
      ],
      "execution_count": 61,
      "outputs": [
        {
          "output_type": "stream",
          "text": [
            "118\n"
          ],
          "name": "stdout"
        }
      ]
    },
    {
      "cell_type": "code",
      "metadata": {
        "id": "UNLXbC6gS51L",
        "colab_type": "code",
        "colab": {}
      },
      "source": [
        "def g_function(X, y, theta, it, i):\n",
        "  return  (theta[0][it] + theta[1][it]*X[i] + theta[2][it]*y[i] + theta[3][it]*X[i]*X[i] +\n",
        "          theta[4][it]*X[i]*y[i] + theta[5][it]*y[i]*y[i] + theta[6][it]*X[i]*X[i]*X[i] + theta[7][it]*X[i]*X[i]*y[i] +\n",
        "          theta[8][it]*X[i]*y[i]*y[i] + theta[9][it]*y[i]*y[i]*y[i] + theta[10][it]*X[i]*X[i]*X[i]*X[i] + theta[11][it]*X[i]*X[i]*X[i]*y[i] +\n",
        "          theta[12][it]*X[i]*X[i]*y[i]*y[i] + theta[13][it]*X[i]*y[i]*y[i]*y[i] + theta[14][it]*y[i]*y[i]*y[i]*y[i] + theta[15][it]*X[i]*X[i]*X[i]*X[i]*X[i])"
      ],
      "execution_count": 0,
      "outputs": []
    },
    {
      "cell_type": "code",
      "metadata": {
        "id": "3nlfxBVRQEQo",
        "colab_type": "code",
        "colab": {}
      },
      "source": [
        "def gradient_descent(X,y,label,theta,learning_rate=0.0000001,iterations=1000):\n",
        "    \n",
        "    m = len(y)\n",
        "\n",
        "    cost_history = np.zeros(iterations)\n",
        "    theta_history = np.zeros((iterations,16))\n",
        "    for it in range(iterations):\n",
        "        pred = 0\n",
        "\n",
        "        pred0 = 0\n",
        "        pred1 = 0\n",
        "        pred2 = 0\n",
        "        pred3 = 0\n",
        "        pred4 = 0\n",
        "        pred5 = 0\n",
        "        pred6 = 0\n",
        "        pred7 = 0\n",
        "        pred8 = 0\n",
        "        pred9 = 0\n",
        "        pred10 = 0\n",
        "        pred11 = 0\n",
        "        pred12 = 0\n",
        "        pred13 = 0\n",
        "        pred14 = 0\n",
        "        pred15 = 0\n",
        "\n",
        "        for i in range(0, m):\n",
        "          # print(i)\n",
        "          #cost 함수\n",
        "          pred = pred + ((-1)*label[i]*math.log(1/(1 + math.exp((-1)*g_function(X, y, theta, it, i))))-((1-label[i])*math.log(1 - (-1)*(1/(1 + math.exp((-1)*g_function(X, y, theta, it, i)))))))\n",
        "          \n",
        "          #  σ(z)   =    (1/(1 + math.exp((-1)*(theta[0][it] + theta[1][it]*X[i] + theta[2][it]*y[i]))))\n",
        "\n",
        "          #theta함수\n",
        "          pred0 = pred0 + ((1/(1 + math.exp((-1)*g_function(X, y, theta, it, i)))) - label[i])\n",
        "          pred1 = pred1 + ((1/(1 + math.exp((-1)*g_function(X, y, theta, it, i)))) - label[i])*X[i]\n",
        "          pred2 = pred2 + ((1/(1 + math.exp((-1)*g_function(X, y, theta, it, i)))) - label[i])*y[i]\n",
        "          pred3 = pred3 + ((1/(1 + math.exp((-1)*g_function(X, y, theta, it, i)))) - label[i])*X[i]*X[i]\n",
        "          pred4 = pred4 + ((1/(1 + math.exp((-1)*g_function(X, y, theta, it, i)))) - label[i])*X[i]*y[i]\n",
        "          pred5 = pred5 + ((1/(1 + math.exp((-1)*g_function(X, y, theta, it, i)))) - label[i])*y[i]*y[i]\n",
        "          pred6 = pred6 + ((1/(1 + math.exp((-1)*g_function(X, y, theta, it, i)))) - label[i])*X[i]*X[i]*X[i]\n",
        "          pred7 = pred7 + ((1/(1 + math.exp((-1)*g_function(X, y, theta, it, i)))) - label[i])*X[i]*X[i]*y[i]\n",
        "          pred8 = pred8 + ((1/(1 + math.exp((-1)*g_function(X, y, theta, it, i)))) - label[i])*X[i]*y[i]*y[i]\n",
        "          pred9 = pred9 + ((1/(1 + math.exp((-1)*g_function(X, y, theta, it, i)))) - label[i])*y[i]*y[i]*y[i]\n",
        "          pred10 = pred10 + ((1/(1 + math.exp((-1)*g_function(X, y, theta, it, i)))) - label[i])*X[i]*X[i]*X[i]*X[i]\n",
        "          pred11 = pred11 + ((1/(1 + math.exp((-1)*g_function(X, y, theta, it, i)))) - label[i])*X[i]*X[i]*X[i]*y[i]\n",
        "          pred12 = pred12 + ((1/(1 + math.exp((-1)*g_function(X, y, theta, it, i)))) - label[i])*X[i]*X[i]*y[i]*y[i]\n",
        "          pred13 = pred13 + ((1/(1 + math.exp((-1)*g_function(X, y, theta, it, i)))) - label[i])*X[i]*y[i]*y[i]*y[i]\n",
        "          pred14 = pred14 + ((1/(1 + math.exp((-1)*g_function(X, y, theta, it, i)))) - label[i])*y[i]*y[i]*y[i]*y[i]\n",
        "          pred15 = pred15 + ((1/(1 + math.exp((-1)*g_function(X, y, theta, it, i)))) - label[i])*X[i]*X[i]*X[i]*X[i]*X[i]\n",
        "        \n",
        "        theta[0][it + 1] = theta[0][it] - (1/m)*learning_rate*pred0\n",
        "        theta[1][it + 1] = theta[1][it] - (1/m)*learning_rate*pred1\n",
        "        theta[2][it + 1] = theta[2][it] - (1/m)*learning_rate*pred2\n",
        "        theta[3][it + 1] = theta[3][it] - (1/m)*learning_rate*pred3\n",
        "        theta[4][it + 1] = theta[4][it] - (1/m)*learning_rate*pred4\n",
        "        theta[5][it + 1] = theta[5][it] - (1/m)*learning_rate*pred5\n",
        "        theta[6][it + 1] = theta[6][it] - (1/m)*learning_rate*pred6\n",
        "        theta[7][it + 1] = theta[7][it] - (1/m)*learning_rate*pred7\n",
        "        theta[8][it + 1] = theta[8][it] - (1/m)*learning_rate*pred8\n",
        "        theta[9][it + 1] = theta[9][it] - (1/m)*learning_rate*pred9\n",
        "        theta[10][it + 1] = theta[10][it] - (1/m)*learning_rate*pred10\n",
        "        theta[11][it + 1] = theta[11][it] - (1/m)*learning_rate*pred11\n",
        "        theta[12][it + 1] = theta[12][it] - (1/m)*learning_rate*pred12\n",
        "        theta[13][it + 1] = theta[13][it] - (1/m)*learning_rate*pred13\n",
        "        theta[14][it + 1] = theta[14][it] - (1/m)*learning_rate*pred14\n",
        "        theta[15][it + 1] = theta[15][it] - (1/m)*learning_rate*pred15\n",
        "\n",
        "        theta_history[it][0] = theta[0][it]\n",
        "        theta_history[it][1] = theta[1][it]\n",
        "        theta_history[it][2] = theta[2][it]\n",
        "        theta_history[it][3] = theta[3][it]\n",
        "        theta_history[it][4] = theta[4][it]\n",
        "        theta_history[it][5] = theta[5][it]\n",
        "        theta_history[it][6] = theta[6][it]\n",
        "        theta_history[it][7] = theta[7][it]\n",
        "        theta_history[it][8] = theta[8][it]\n",
        "        theta_history[it][9] = theta[9][it]\n",
        "        theta_history[it][10] = theta[10][it]\n",
        "        theta_history[it][11] = theta[11][it]\n",
        "        theta_history[it][12] = theta[12][it]\n",
        "        theta_history[it][13] = theta[13][it]\n",
        "        theta_history[it][14] = theta[14][it]\n",
        "        theta_history[it][15] = theta[15][it]\n",
        "\n",
        "        cost_history[it]  = (1/m) * pred\n",
        "        \n",
        "    return theta, cost_history, theta_history"
      ],
      "execution_count": 0,
      "outputs": []
    },
    {
      "cell_type": "code",
      "metadata": {
        "id": "OO4LdAVmQG_e",
        "colab_type": "code",
        "colab": {}
      },
      "source": [
        "lr =0.0000001\n",
        "n_iter = 300000\n",
        "\n",
        "theta = np.zeros((16, n_iter + 1))  #theta 전부 0으로 초기화\n",
        "# theta[0][0] = -12.0\n",
        "# theta[1][0] = 0.2\n",
        "# theta[2][0] = -0.2\n",
        "\n",
        "X_b = np.c_[np.ones((len(X),0)),X]\n",
        "X_b = np.array(X_b,dtype=float)\n",
        "# print(X_b.shape)\n",
        "# print(X_b.dtype)\n",
        "# print(y.dtype)\n",
        "theta,cost_history,theta_history = gradient_descent(X_b,y,label,theta,lr,n_iter)"
      ],
      "execution_count": 0,
      "outputs": []
    },
    {
      "cell_type": "code",
      "metadata": {
        "id": "5hGch925QUBz",
        "colab_type": "code",
        "colab": {}
      },
      "source": [
        "# fig,ax = plt.subplots(figsize=(12,8))\n",
        "\n",
        "theta0_history = []\n",
        "theta1_history = []\n",
        "theta2_history = []\n",
        "theta3_history = []\n",
        "theta4_history = []\n",
        "theta5_history = []\n",
        "theta6_history = []\n",
        "theta7_history = []\n",
        "theta8_history = []\n",
        "theta9_history = []\n",
        "theta10_history = []\n",
        "theta11_history = []\n",
        "theta12_history = []\n",
        "theta13_history = []\n",
        "theta14_history = []\n",
        "theta15_history = []\n",
        "\n",
        "for it in range(n_iter):\n",
        "  theta0_history.append(theta_history[it][0])\n",
        "  theta1_history.append(theta_history[it][1])\n",
        "  theta2_history.append(theta_history[it][2])\n",
        "  theta3_history.append(theta_history[it][3])\n",
        "  theta4_history.append(theta_history[it][4])\n",
        "  theta5_history.append(theta_history[it][5])\n",
        "  theta6_history.append(theta_history[it][6])\n",
        "  theta7_history.append(theta_history[it][7])\n",
        "  theta8_history.append(theta_history[it][8])\n",
        "  theta9_history.append(theta_history[it][9])\n",
        "  theta10_history.append(theta_history[it][10])\n",
        "  theta11_history.append(theta_history[it][11])\n",
        "  theta12_history.append(theta_history[it][12])\n",
        "  theta13_history.append(theta_history[it][13])\n",
        "  theta14_history.append(theta_history[it][14])\n",
        "  theta15_history.append(theta_history[it][15])\n",
        "\n",
        "# ax.set_ylabel('Theta')\n",
        "# ax.set_xlabel('Iterations')\n",
        "# _=ax.plot(range(n_iter),theta0_history,'b.', color = 'red')\n",
        "# _=ax.plot(range(n_iter),theta1_history,'b.', color = 'green')\n",
        "# _=ax.plot(range(n_iter),theta2_history,'b.', color = 'blue')\n",
        "\n",
        "for it in range(0, 16):\n",
        "  print(theta_history[-1][it])"
      ],
      "execution_count": 0,
      "outputs": []
    },
    {
      "cell_type": "code",
      "metadata": {
        "id": "9I8EKgyNcWG7",
        "colab_type": "code",
        "colab": {}
      },
      "source": [
        "fig,ax = plt.subplots(figsize=(12,8))\n",
        "\n",
        "# n_iter = 50\n",
        "# cost_history = new_cost(X_b,y,theta,n_iter)\n",
        "\n",
        "print(cost_history[-1])\n",
        "\n",
        "ax.set_ylabel('J(Theta)')\n",
        "ax.set_xlabel('Iterations')\n",
        "_=ax.plot(range(n_iter),cost_history,'b.')"
      ],
      "execution_count": 0,
      "outputs": []
    },
    {
      "cell_type": "markdown",
      "metadata": {
        "id": "W0_y4h3lCOEW",
        "colab_type": "text"
      },
      "source": [
        "# **4. Plot the training accuracy [3pt]**\n",
        "\n",
        "- plot the training accuracy at every iteration of gradient descent until convergence (in red color)\n",
        "- the score will be given depending on the accuracy"
      ]
    },
    {
      "cell_type": "code",
      "metadata": {
        "id": "0wj0uBA9DPzg",
        "colab_type": "code",
        "colab": {}
      },
      "source": [
        ""
      ],
      "execution_count": 0,
      "outputs": []
    },
    {
      "cell_type": "markdown",
      "metadata": {
        "id": "nv_zAWupCOVI",
        "colab_type": "text"
      },
      "source": [
        "# **5. Write down the final training accuracy [5pt]**\n",
        "\n",
        "- present the final training accuracy in number (%) at convergence\n",
        "- the score will be given depending on the accuracy"
      ]
    },
    {
      "cell_type": "code",
      "metadata": {
        "id": "_S_-z50iDQWW",
        "colab_type": "code",
        "colab": {}
      },
      "source": [
        ""
      ],
      "execution_count": 0,
      "outputs": []
    },
    {
      "cell_type": "markdown",
      "metadata": {
        "id": "MokllgPaCOmA",
        "colab_type": "text"
      },
      "source": [
        "# **6. Plot the optimal classifier superimposed on the training data [5pt]**\n",
        "\n",
        "- plot the boundary of the optimal classifier at convergence (in green color)\n",
        "- the boundary of the classifier is defined by {(x,y)∣σ(g(x,y;θ))=0.5}={(x,y)∣g(x,y;θ)=0}\n",
        "- plot the training data points (x,y) with their labels lll in colors superimposed on the illustration of the classifier (blue for label 0 and red for label 1)\n",
        "- you can use contour function in python3\n",
        "- the score will be given depending on the accuracy"
      ]
    },
    {
      "cell_type": "code",
      "metadata": {
        "id": "1FDAbh1m9VU3",
        "colab_type": "code",
        "colab": {}
      },
      "source": [
        ""
      ],
      "execution_count": 0,
      "outputs": []
    }
  ]
}