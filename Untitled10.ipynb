{
  "nbformat": 4,
  "nbformat_minor": 0,
  "metadata": {
    "colab": {
      "name": "Untitled10.ipynb",
      "provenance": [],
      "collapsed_sections": [],
      "authorship_tag": "ABX9TyPr/76BtZbzWWcUw3aKaV1S",
      "include_colab_link": true
    },
    "kernelspec": {
      "name": "python3",
      "display_name": "Python 3"
    },
    "accelerator": "GPU"
  },
  "cells": [
    {
      "cell_type": "markdown",
      "metadata": {
        "id": "view-in-github",
        "colab_type": "text"
      },
      "source": [
        "<a href=\"https://colab.research.google.com/github/dlguswn3659/class-MachineLearning/blob/master/Untitled10.ipynb\" target=\"_parent\"><img src=\"https://colab.research.google.com/assets/colab-badge.svg\" alt=\"Open In Colab\"/></a>"
      ]
    },
    {
      "cell_type": "code",
      "metadata": {
        "id": "-sOoEaBxtNXA",
        "colab_type": "code",
        "outputId": "def056e7-abdf-473c-aef6-fbe9e8cfeb67",
        "colab": {
          "resources": {
            "http://localhost:8080/nbextensions/google.colab/files.js": {
              "data": "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",
              "ok": true,
              "headers": [
                [
                  "content-type",
                  "application/javascript"
                ]
              ],
              "status": 200,
              "status_text": ""
            }
          },
          "base_uri": "https://localhost:8080/",
          "height": 628
        }
      },
      "source": [
        "%matplotlib inline\n",
        "import numpy as np\n",
        "import matplotlib.pyplot as plt\n",
        "import matplotlib as mpl\n",
        "import seaborn as sns\n",
        "import matplotlib.animation as animation\n",
        "import operator\n",
        "from scipy import stats \n",
        "from mpl_toolkits.mplot3d import Axes3D\n",
        "from sklearn.datasets.samples_generator import make_regression \n",
        "import csv\n",
        "import math\n",
        "from google.colab import files\n",
        "\n",
        "uploaded = files.upload()\n",
        "\n",
        "file_data   = \"mnist.csv\"\n",
        "handle_file = open(file_data, \"r\")\n",
        "data        = handle_file.readlines()\n",
        "handle_file.close()\n",
        "\n",
        "size_row    = 28    # height of the image\n",
        "size_col    = 28    # width of the image\n",
        "\n",
        "num_image   = len(data)\n",
        "count       = 0     # count for the number of images\n",
        "\n",
        "#\n",
        "# normalize the values of the input data to be [0, 1]\n",
        "#\n",
        "def normalize(data):\n",
        "\n",
        "    data_normalized = (data - min(data)) / (max(data) - min(data))\n",
        "\n",
        "    return(data_normalized)\n",
        "\n",
        "#\n",
        "# example of distance function between two vectors x and y\n",
        "#\n",
        "def distance(x, y):\n",
        "\n",
        "    d = (x - y) ** 2\n",
        "    s = np.sum(d)\n",
        "    # r = np.sqrt(s)\n",
        "\n",
        "    return(s)\n",
        "\n",
        "#\n",
        "# make a matrix each column of which represents an images in a vector form\n",
        "#\n",
        "list_image  = np.empty((size_row * size_col, num_image), dtype=float)\n",
        "list_label  = np.empty(num_image, dtype=int)\n",
        "\n",
        "for line in data:\n",
        "\n",
        "    line_data   = line.split(',')\n",
        "    label       = line_data[0]\n",
        "    im_vector   = np.asfarray(line_data[1:])\n",
        "    im_vector   = normalize(im_vector)\n",
        "\n",
        "    list_label[count]       = label\n",
        "    list_image[:, count]    = im_vector\n",
        "\n",
        "    count += 1\n",
        "\n",
        "#\n",
        "# plot first 150 images out of 10,000 with their labels\n",
        "#\n",
        "f1 = plt.figure(1)\n",
        "\n",
        "for i in range(150):\n",
        "\n",
        "    label       = list_label[i]\n",
        "    im_vector   = list_image[:, i]\n",
        "    im_matrix   = im_vector.reshape((size_row, size_col))\n",
        "\n",
        "    plt.subplot(10, 15, i+1)\n",
        "    plt.title(label)\n",
        "    plt.imshow(im_matrix, cmap='Greys', interpolation='None')\n",
        "\n",
        "    frame   = plt.gca()\n",
        "    frame.axes.get_xaxis().set_visible(False)\n",
        "    frame.axes.get_yaxis().set_visible(False)\n",
        "\n",
        "\n",
        "#plt.show()\n",
        "\n",
        "#\n",
        "# plot the average image of all the images for each digit\n",
        "#\n",
        "f2 = plt.figure(2)\n",
        "\n",
        "im_average  = np.zeros((size_row * size_col, 10), dtype=float)\n",
        "im_count    = np.zeros(10, dtype=int)\n",
        "\n",
        "for i in range(num_image):\n",
        "\n",
        "    im_average[:, list_label[i]] += list_image[:, i]\n",
        "    im_count[list_label[i]] += 1\n",
        "\n",
        "for i in range(10):\n",
        "\n",
        "    im_average[:, i] /= im_count[i]\n",
        "\n",
        "    plt.subplot(2, 5, i+1)\n",
        "    plt.title(i)\n",
        "    plt.imshow(im_average[:,i].reshape((size_row, size_col)), cmap='Greys', interpolation='None')\n",
        "\n",
        "    frame   = plt.gca()\n",
        "    frame.axes.get_xaxis().set_visible(False)\n",
        "    frame.axes.get_yaxis().set_visible(False)\n",
        "\n",
        "plt.show()\n",
        "\n"
      ],
      "execution_count": 1,
      "outputs": [
        {
          "output_type": "stream",
          "text": [
            "/usr/local/lib/python3.6/dist-packages/statsmodels/tools/_testing.py:19: FutureWarning: pandas.util.testing is deprecated. Use the functions in the public API at pandas.testing instead.\n",
            "  import pandas.util.testing as tm\n",
            "/usr/local/lib/python3.6/dist-packages/sklearn/utils/deprecation.py:144: FutureWarning: The sklearn.datasets.samples_generator module is  deprecated in version 0.22 and will be removed in version 0.24. The corresponding classes / functions should instead be imported from sklearn.datasets. Anything that cannot be imported from sklearn.datasets is now part of the private API.\n",
            "  warnings.warn(message, FutureWarning)\n"
          ],
          "name": "stderr"
        },
        {
          "output_type": "display_data",
          "data": {
            "text/html": [
              "\n",
              "     <input type=\"file\" id=\"files-a1c6ddc6-b837-4e5f-bbcc-191c0aaeef17\" name=\"files[]\" multiple disabled />\n",
              "     <output id=\"result-a1c6ddc6-b837-4e5f-bbcc-191c0aaeef17\">\n",
              "      Upload widget is only available when the cell has been executed in the\n",
              "      current browser session. Please rerun this cell to enable.\n",
              "      </output>\n",
              "      <script src=\"/nbextensions/google.colab/files.js\"></script> "
            ],
            "text/plain": [
              "<IPython.core.display.HTML object>"
            ]
          },
          "metadata": {
            "tags": []
          }
        },
        {
          "output_type": "stream",
          "text": [
            "Saving mnist.csv to mnist.csv\n"
          ],
          "name": "stdout"
        },
        {
          "output_type": "display_data",
          "data": {
            "image/png": "[encoded data removed]",
            "text/plain": [
              "<Figure size 432x288 with 150 Axes>"
            ]
          },
          "metadata": {
            "tags": [],
            "needs_background": "light"
          }
        },
        {
          "output_type": "display_data",
          "data": {
            "image/png": "[encoded data removed]",
            "text/plain": [
              "<Figure size 432x288 with 10 Axes>"
            ]
          },
          "metadata": {
            "tags": [],
            "needs_background": "light"
          }
        }
      ]
    },
    {
      "cell_type": "code",
      "metadata": {
        "id": "b_YcDHFWIRFP",
        "colab_type": "code",
        "colab": {}
      },
      "source": [
        "theta = np.random.normal(size=(size_row*size_col))"
      ],
      "execution_count": 0,
      "outputs": []
    },
    {
      "cell_type": "code",
      "metadata": {
        "id": "DemnhlAQP0XJ",
        "colab_type": "code",
        "colab": {}
      },
      "source": [
        "def sigmoid(z): \n",
        "  g = 1 / (1 + np.exp(-z)) \n",
        "  \n",
        "  return g "
      ],
      "execution_count": 0,
      "outputs": []
    },
    {
      "cell_type": "code",
      "metadata": {
        "id": "DRugdPmoP2G5",
        "colab_type": "code",
        "outputId": "92e44ed5-5c9b-4fea-8f1d-4c72dc4a8878",
        "colab": {
          "base_uri": "https://localhost:8080/",
          "height": 35
        }
      },
      "source": [
        "z_list = []\n",
        "for i in range(0, 10):\n",
        "  z_list.append(0.0)\n",
        "\n",
        "print(z_list)"
      ],
      "execution_count": 4,
      "outputs": [
        {
          "output_type": "stream",
          "text": [
            "[0.0, 0.0, 0.0, 0.0, 0.0, 0.0, 0.0, 0.0, 0.0, 0.0]\n"
          ],
          "name": "stdout"
        }
      ]
    },
    {
      "cell_type": "code",
      "metadata": {
        "id": "xtbUZT3IP28F",
        "colab_type": "code",
        "colab": {}
      },
      "source": [
        "for i in range(0, num_image):\n",
        "  label       = list_label[i]\n",
        "  im_vector   = list_image[:, i]\n",
        "  im_matrix   = im_vector.reshape((size_row, size_col))\n",
        "  y = 0\n",
        "  for ny in range(0, size_row):\n",
        "      for nz in range(0, size_col):\n",
        "        y = y + theta[size_col*ny + nz]*im_matrix[ny][nz]\n",
        "  # print(y)\n",
        "  z_list[label] = z_list[label] + sigmoid(y)\n",
        "  # print(sigmoid(y))"
      ],
      "execution_count": 0,
      "outputs": []
    },
    {
      "cell_type": "code",
      "metadata": {
        "id": "OWQYa_g6P4H2",
        "colab_type": "code",
        "colab": {}
      },
      "source": [
        "#평균내기\n",
        "\n",
        "# for i in range(0, 10):\n",
        "  # z_list[i] = z_list[i] / label_list[i]"
      ],
      "execution_count": 0,
      "outputs": []
    },
    {
      "cell_type": "code",
      "metadata": {
        "id": "WUWOjwQQTDdR",
        "colab_type": "code",
        "colab": {}
      },
      "source": [
        "#first hidden layer로 가기 위한 초기 fully connected u 생성\n",
        "w_tmp = np.ones(shape=(1000, 197, 785))\n",
        "v_tmp = np.ones(shape=(1000, 50, 197))\n",
        "u_tmp = np.ones(shape=(1000, 10, 50))\n",
        "\n",
        "matrix_u = np.zeros((197, 785))  #197줄\n",
        "matrix_u[0][0] = 1               #y레이어의 bias를 위한 값 1\n",
        "\n",
        "for i in range(1, 197):\n",
        "  for j in range(0, 785):\n",
        "    matrix_u[i][j] = np.random.normal()\n",
        "\n",
        "\n",
        "# matrix_u[196][0] = 0            #줄, 칸\n",
        "##############################################\n",
        "matrix_v = np.zeros((50, 197))  #50줄\n",
        "matrix_v[0][0] = 1               #y레이어의 bias를 위한 값 1\n",
        "\n",
        "for i in range(1, 50):\n",
        "  for j in range(0, 197):\n",
        "    matrix_v[i][j] = np.random.normal()\n",
        "\n",
        "\n",
        "# matrix_v[196][0] = 0            #줄, 칸\n",
        "##############################################\n",
        "matrix_w = np.zeros((10, 50))  #10줄\n",
        "# matrix_w[0][0] = 1               #y레이어의 bias를 위한 값 1\n",
        "\n",
        "for i in range(0, 10):\n",
        "  for j in range(0, 50):\n",
        "    matrix_w[i][j] = np.random.normal()\n",
        "\n",
        "w_tmp = matrix_w\n",
        "v_tmp = matrix_v\n",
        "u_tmp = matrix_u\n",
        "\n",
        "# matrix_w[196][0] = 0            #줄, 칸\n",
        "\n",
        "# print(matrix)"
      ],
      "execution_count": 0,
      "outputs": []
    },
    {
      "cell_type": "code",
      "metadata": {
        "id": "idHIKSRGY0p9",
        "colab_type": "code",
        "colab": {}
      },
      "source": [
        "import operator\n",
        "\n",
        "y_ = np.ones((197, 1))\n",
        "\n",
        "x_list = np.ones(shape=(1000, 785, 1))\n",
        "\n",
        "y__list = np.ones(shape=(1000, 197, 1))\n",
        "z__list = np.ones(shape=(1000, 50, 1))\n",
        "h__list = np.ones(shape=(1000, 10, 1))\n",
        "\n",
        "y_list = np.ones(shape=(1000, 197, 1))\n",
        "z_list = np.ones(shape=(1000, 50, 1))\n",
        "h_list = np.ones(shape=(1000, 10, 1))\n",
        "l_list = np.zeros(shape=(1000, 10, 1))\n",
        "\n",
        "y_list_tmp = np.ones(shape=(1000, 197, 1))\n",
        "z_list_tmp = np.ones(shape=(1000, 50, 1))\n",
        "h_list_tmp = np.ones(shape=(1000, 10, 1))\n",
        "y__list_tmp = np.ones(shape=(1000, 197, 1))\n",
        "z__list_tmp = np.ones(shape=(1000, 50, 1))\n",
        "h__list_tmp = np.ones(shape=(1000, 10, 1))\n",
        "\n",
        "# w_tmp = np.ones(shape=(1000, 197, 785))\n",
        "# v_tmp = np.ones(shape=(1000, 50, 197))\n",
        "# u_tmp = np.ones(shape=(1000, 10, 50))\n",
        "\n",
        "# matrix_u = np.zeros((197, 785))  #197줄\n",
        "# matrix_u[0][0] = 1               #y레이어의 bias를 위한 값 1\n",
        "\n",
        "\n",
        "#training set 1000개에 대해서\n",
        "for i in range(0, 1000):\n",
        "  # print(i)\n",
        "  label       = list_label[i]\n",
        "  bias   = [1]       #bias 1\n",
        "  im_vector = np.concatenate((bias, list_image[:, i]), axis = None)\n",
        "\n",
        "  # print(type(list_image[: , i]))\n",
        "  # print(list_image[:, i])\n",
        "  # print(im_vector)\n",
        "  im_matrix   = im_vector.reshape((size_row*size_col + 1, 1))\n",
        "  \n",
        "  x_list[i] = im_matrix\n",
        "\n",
        "  y_ = np.dot(matrix_u, im_matrix)  #x와 가중치 u를 곱해서 y_를 만듦\n",
        "  y__list[i] = y_\n",
        "  \n",
        "  y_vector = np.ones((197,1)) #bias\n",
        "  for j in range (1, 197):\n",
        "    y_vector[j][0] = 1 / (1 + math.exp(-y_[j][0]))\n",
        "    # sigmoid(y_[j][0])  #sigmoid 함수를 적용해서 y_에서 y를 만듦\n",
        "\n",
        "  y   = y_vector.reshape((197, 1))\n",
        "  y_list[i] = y\n",
        "\n",
        "  z_  = np.dot(matrix_v, y)  #y와 가중치 v를 곱해서 z_를 만듦\n",
        "  z__list[i] = z_\n",
        "  z_vector = np.ones((50,1)) #bias\n",
        "  for j in range (1, 50):\n",
        "    z_vector[j][0] = 1 / (1 + math.exp(-z_[j][0]))  #sigmoid 함수를 적용해서 y_에서 y를 만듦\n",
        "\n",
        "  z   = z_vector.reshape((50, 1))\n",
        "  z_list[i] = z\n",
        "  \n",
        "  # print(z)\n",
        "\n",
        "  h_  = np.dot(matrix_w, z)  #z와 가중치 w를 곱해서 h_를 만듦\n",
        "  h__list[i] = h_\n",
        "  \n",
        "  h_vector = np.ones((10,1)) #bias\n",
        "  for j in range (0, 10):\n",
        "    h_vector[j][0] = 1 / (1 + math.exp(-h_[j][0]))  #sigmoid 함수를 적용해서 h_에서 h를 만듦\n",
        "\n",
        "  h   = h_vector.reshape((10, 1))\n",
        "  # tmp = h.ravel()\n",
        "  # max_value = max(tmp)\n",
        "  # print(max_value)\n",
        "  # max_index = tmp.index(max_value)\n",
        "  index, value = max(enumerate(h), key=operator.itemgetter(1))\n",
        "  h_list[i] = h\n",
        "  l_list[i][index] = 1\n",
        "  # print(l_list[i])\n",
        "  # print(h)\n",
        "\n",
        "  y_list_tmp[i] = y_list[i]\n",
        "  z_list_tmp[i] = z_list[i]\n",
        "  h_list_tmp[i] = h_list[i]\n",
        "  y__list_tmp[i] = y__list[i]\n",
        "  z__list_tmp[i] = z__list[i]\n",
        "  h__list_tmp[i] = h__list[i]\n",
        "\n",
        "# print(l_list)"
      ],
      "execution_count": 0,
      "outputs": []
    },
    {
      "cell_type": "code",
      "metadata": {
        "id": "i1AbB1lMv1yY",
        "colab_type": "code",
        "colab": {}
      },
      "source": [
        "def objective_function(size, label_List, h_List):\n",
        "  result = 0.0\n",
        "  for i in range(0, size):\n",
        "    for k in range(0, 10):\n",
        "      result = result + ((-1)*label_List[i][k]*math.log(h_List[i][k][0]) - (1-label_List[i][k])*math.log(1-h_List[i][k][0]))\n",
        "  result = result / size\n",
        "\n",
        "  return result"
      ],
      "execution_count": 0,
      "outputs": []
    },
    {
      "cell_type": "code",
      "metadata": {
        "id": "z7uMF29V6ZAh",
        "colab_type": "code",
        "colab": {}
      },
      "source": [
        "def w_gredient_descent(learning_rate, k_value, n_value, size, label_List):\n",
        "  result = 0.0\n",
        "  for i in range(0, size):\n",
        "    result = result + (z_list_tmp[i][n_value][0]*(sigmoid(h_list_tmp[i][k_value][0]) - label_List[i][k_value][0]))\n",
        "  result = result / size\n",
        "  result = result * learning_rate\n",
        "  final = w_tmp[k_value][n_value] - result\n",
        "\n",
        "  return final"
      ],
      "execution_count": 0,
      "outputs": []
    },
    {
      "cell_type": "code",
      "metadata": {
        "id": "FQMnniqxLxzl",
        "colab_type": "code",
        "colab": {}
      },
      "source": [
        "def v_gredient_descent(learning_rate, k_value, n_value, size, label_List):\n",
        "  result = 0.0\n",
        "  for i in range(0, size):\n",
        "    result = result + (y_list_tmp[i][n_value][0]*w_tmp[0][k_value]*(sigmoid(h_list_tmp[i][0][0]) - label_List[i][0][0])*(sigmoid(z__list_tmp[i][k_value][0])*(1 - sigmoid(z__list_tmp[i][k_value][0]))))\n",
        "  result = result / size\n",
        "  result = result * learning_rate\n",
        "  final = v_tmp[k_value][n_value] - result\n",
        "\n",
        "  return final"
      ],
      "execution_count": 0,
      "outputs": []
    },
    {
      "cell_type": "code",
      "metadata": {
        "id": "UabSYhhIO6JU",
        "colab_type": "code",
        "colab": {}
      },
      "source": [
        "def u_gredient_descent(learning_rate, k_value, n_value, size, label_List):\n",
        "  result = 0.0\n",
        "  for i in range(0, size):\n",
        "    result = result + (x_list[i][n_value][0]*w_tmp[0][1]*v_tmp[1][k_value]*(sigmoid(h_list_tmp[i][0][0]) - label_List[i][0][0])*(sigmoid(z__list_tmp[i][1][0])*(1 - sigmoid(z__list_tmp[i][1][0])))*(sigmoid(y__list_tmp[i][k_value][0])*(1 - sigmoid(y__list_tmp[i][k_value][0]))))\n",
        "  result = result / size\n",
        "  result = result * learning_rate\n",
        "  final = u_tmp[k_value][n_value] - result\n",
        "\n",
        "  return final"
      ],
      "execution_count": 0,
      "outputs": []
    },
    {
      "cell_type": "code",
      "metadata": {
        "id": "0vn3FkYXStur",
        "colab_type": "code",
        "outputId": "33ec222a-c837-4c43-bfff-29fdae8fea9e",
        "colab": {
          "base_uri": "https://localhost:8080/",
          "height": 55
        }
      },
      "source": [
        "#이제 여기에다가\n",
        "\n",
        "#iteration에 따라\n",
        "#cost function 값을 배열에 저장하고\n",
        "#세타값을 업데이트 시키고(위의 세개 함수 호출)\n",
        "#업데이트 시킨값을 다시 cost함수에 넣고\n",
        "#업데이트 시키고\n",
        "#이것을 반복하는 함수를 짠다.\n",
        "\n",
        "#아직 해야하는 것 : h값에 따라 가장 큰값의 index로 L값정하는거 위에 추가해야함.\n",
        "\n",
        "iteration = 500\n",
        "l_r = 0.1\n",
        "\n",
        "cost_history = np.zeros(iteration)\n",
        "\n",
        "total_number_of_predictions = 1000\n",
        "accuracy_history = np.zeros(iteration)\n",
        "\n",
        "# small_delta = np.ones(3)  #image_size, layer 2~4(3개)\n",
        "# greece_delta_w = np.ones(shape = (10, 50))\n",
        "# greece_delta_v = np.ones(shape = (50, 197))\n",
        "# greece_delta_u = np.ones(shape = (197, 785))\n",
        "\n",
        "label_group = np.zeros(shape = (1000, 10))\n",
        "\n",
        "for i in range(0, 1000):\n",
        "  label       = list_label[i]\n",
        "  im_vector   = list_image[:, i]\n",
        "\n",
        "  # X[i] = im_vector\n",
        "  # print(i)\n",
        "  # print(X[i])\n",
        "  label_group[i][label] = 1\n",
        "\n",
        "for t in range(0, iteration):\n",
        "  number_of_correct_predictions = 0\n",
        "  \n",
        "  print(t, end=' ')\n",
        "\n",
        "  # cost_history[t] = objective_function(1000, l_list, h_list_tmp)\n",
        "  result = 0.0\n",
        "  for i in range(0, 1000):\n",
        "    for k in range(0, 10):\n",
        "      # if h_list_tmp[i][k][0] <= 0:\n",
        "      # print(h_list_tmp[i][k][0])\n",
        "      result = result + ((-1)*label_group[i][k]*math.log(h_list[i][k][0]) - (1-label_group[i][k])*math.log(1-h_list[i][k][0]))\n",
        "  result = result / 1000\n",
        "  cost_history[t] = result\n",
        "\n",
        "# (1 / (1 + math.exp(-y__list_tmp[i][m][0])))\n",
        "#############################################\n",
        "  # for m in range(0, 10):\n",
        "  #   # print(m)\n",
        "  #   for n in range(0, 50):\n",
        "  #     # matrix_w[m][n] = w_gredient_descent(l_r, m, n, 1000, l_list)\n",
        "  #     result = 0.0\n",
        "  #     for i in range(0,1000):\n",
        "  #       result = result + (z_list_tmp[i][n][0]*((1 / (1 + math.exp(-h_list_tmp[i][m][0]))) - l_list[i][m][0]))\n",
        "  #     result = result / 1000\n",
        "  #     result = result * l_r\n",
        "  #     final = w_tmp[m][n] - result\n",
        "  #     matrix_w[m][n] = final\n",
        "\n",
        "  # for m in range(0, 50):\n",
        "  #   # print(m)\n",
        "  #   for n in range(0, 197):\n",
        "  #     # matrix_v[m][n] = v_gredient_descent(l_r, m, n, 1000, l_list)\n",
        "  #     result = 0.0\n",
        "  #     for i in range(0, 1000):\n",
        "  #       result = result + (y_list_tmp[i][n][0]*w_tmp[0][m]*((1 / (1 + math.exp(-h_list_tmp[i][0][0]))) - l_list[i][0][0])*((1 / (1 + math.exp(-z__list_tmp[i][m][0])))*(1 - (1 / (1 + math.exp(-z__list_tmp[i][m][0]))))))\n",
        "  #     result = result / 1000\n",
        "  #     result = result * l_r\n",
        "  #     final = v_tmp[m][n] - result\n",
        "  #     matrix_v[m][n] = final\n",
        "\n",
        "  # for m in range(0, 197):\n",
        "  #   # print(m)\n",
        "  #   for n in range(0, 785):\n",
        "  #     # matrix_u[m][n] = u_gredient_descent(l_r, m, n, 1000, l_list)\n",
        "  #     result = 0.0\n",
        "  #     for i in range(0, 1000):\n",
        "  #       result = result + (x_list[i][n][0]*w_tmp[0][1]*v_tmp[1][m]*((1 / (1 + math.exp(-h_list_tmp[i][0][0]))) - l_list[i][0][0])*((1 / (1 + math.exp(-z__list_tmp[i][1][0])))*(1 - (1 / (1 + math.exp(-z__list_tmp[i][1][0])))))*((1 / (1 + math.exp(-y__list_tmp[i][m][0])))*(1 - (1 / (1 + math.exp(-y__list_tmp[i][m][0]))))))\n",
        "  #     result = result / 1000\n",
        "  #     result = result * l_r\n",
        "  #     final = u_tmp[m][n] - result\n",
        "  #     matrix_u[m][n] = final\n",
        "#######################################################################\n",
        "##gradient descent\n",
        "  result_w = 0\n",
        "  result_v = 0\n",
        "  result_u = 0\n",
        "\n",
        "  for i in range(0, 1000):\n",
        "    small_delta_2 = np.zeros(shape = (10, 1))\n",
        "    for j in range(0, 10):\n",
        "      small_delta_2[j][0] = h_list[i][j] - label_group[i][j]\n",
        "    # print(h_list[i])\n",
        "    # print(label_group[i])\n",
        "    # small_delta_2 = h_list[i] - label_group[i] #여기 label_group 다시 봐야함.\n",
        "    small_delta_1 = np.dot(np.transpose(matrix_w), small_delta_2)\n",
        "    small_delta_0 = np.dot(np.transpose(matrix_v), small_delta_1)*(y_list_tmp[i]*(1 - y_list_tmp[i]))\n",
        "\n",
        "    # print(small_delta_2)\n",
        "    result_w = result_w + np.dot(small_delta_2, np.transpose(z_list[i]))\n",
        "    result_v = result_v + np.dot(small_delta_1, np.transpose(y_list[i]))\n",
        "    result_u = result_u + np.dot(small_delta_0, np.transpose(x_list[i]))\n",
        "\n",
        "  matrix_w = matrix_w - (result_w / 1000 *l_r)\n",
        "  matrix_v = matrix_v - (result_v / 1000 *l_r)\n",
        "  matrix_u = matrix_u - (result_u / 1000 *l_r)\n",
        "\n",
        "\n",
        "####################################################################\n",
        "\n",
        "  for k in range(0, 1000):\n",
        "  # print(i)\n",
        "    label       = list_label[k]\n",
        "    bias   = [1]       #bias 1\n",
        "    im_vector = np.concatenate((bias, list_image[:, k]), axis = None)\n",
        "\n",
        "    # print(type(list_image[: , k]))\n",
        "    # print(list_image[:, k])\n",
        "    # print(im_vector)\n",
        "    im_matrix   = im_vector.reshape((size_row*size_col + 1, 1))\n",
        "\n",
        "    y_ = np.dot(matrix_u, im_matrix)  #x와 가중치 u를 곱해서 y_를 만듦\n",
        "    y__list[k] = y_\n",
        "    \n",
        "    y_vector = np.ones((197,1)) #bias\n",
        "    for j in range (1, 197):\n",
        "      y_vector[j][0] = 1 / (1 + math.exp(-y_[j][0]))  #sigmoid 함수를 적용해서 y_에서 y를 만듦\n",
        "    \n",
        "    # print(y_vector) #시그모이드 값 확인\n",
        "    y   = y_vector.reshape((197, 1))\n",
        "    y_list[k] = y\n",
        "\n",
        "    z_  = np.dot(matrix_v, y)  #y와 가중치 v를 곱해서 z_를 만듦\n",
        "    z__list[k] = z_\n",
        "    z_vector = np.ones((50,1)) #bias\n",
        "    for j in range (1, 50):\n",
        "      z_vector[j][0] = 1 / (1 + math.exp(-z_[j][0]))  #sigmoid 함수를 적용해서 y_에서 y를 만듦\n",
        "\n",
        "    z   = z_vector.reshape((50, 1))\n",
        "    z_list[k] = z\n",
        "    \n",
        "    # print(z)\n",
        "\n",
        "    h_  = np.dot(matrix_w, z)  #z와 가중치 w를 곱해서 h_를 만듦\n",
        "    h__list[k] = h_\n",
        "    \n",
        "    h_vector = np.ones((10,1)) #bias\n",
        "    for j in range (0, 10):\n",
        "      h_vector[j][0] = 1 / (1 + math.exp(-h_[j][0]))  #sigmoid 함수를 적용해서 h_에서 h를 만듦\n",
        "\n",
        "    h   = h_vector.reshape((10, 1))\n",
        "    # print(h)\n",
        "    # tmp = h.ravel()\n",
        "    # max_value = max(tmp)\n",
        "    # print(max_value)\n",
        "    # max_index = tmp.index(max_value)\n",
        "    index, value = max(enumerate(h), key=operator.itemgetter(1))\n",
        "    h_list[k] = h\n",
        "    l_list[k][index] = 1\n",
        "    # print(l_list[i])\n",
        "    # print(h)\n",
        "    if index == label:\n",
        "      number_of_correct_predictions = number_of_correct_predictions + 1\n",
        "\n",
        "    y_list_tmp[k] = y_list[k]\n",
        "    z_list_tmp[k] = z_list[k]\n",
        "    h_list_tmp[k] = h_list[k]\n",
        "    y__list_tmp[k] = y__list[k]\n",
        "    z__list_tmp[k] = z__list[k]\n",
        "    h__list_tmp[k] = h__list[k]\n",
        "\n",
        "\n",
        "  accuracy_history[t] = number_of_correct_predictions/total_number_of_predictions*100\n",
        "  # print(accuracy_history[t])\n",
        "  t = t + 1"
      ],
      "execution_count": 13,
      "outputs": [
        {
          "output_type": "stream",
          "text": [
            "0 1 2 3 4 5 6 7 8 9 10 11 12 13 14 15 16 17 18 19 20 21 22 23 24 25 26 27 28 29 30 31 32 33 34 35 36 37 38 39 40 41 42 43 44 45 46 47 48 49 50 51 52 53 54 55 56 57 58 59 60 61 62 63 64 65 66 67 68 69 70 71 72 73 74 75 76 77 78 79 80 81 82 83 84 85 86 87 88 89 90 91 92 93 94 95 96 97 98 99 100 101 102 103 104 105 106 107 108 109 110 111 112 113 114 115 116 117 118 119 120 121 122 123 124 125 126 127 128 129 130 131 132 133 134 135 136 137 138 139 140 141 142 143 144 145 146 147 148 149 150 151 152 153 154 155 156 157 158 159 160 161 162 163 164 165 166 167 168 169 170 171 172 173 174 175 176 177 178 179 180 181 182 183 184 185 186 187 188 189 190 191 192 193 194 195 196 197 198 199 200 201 202 203 204 205 206 207 208 209 210 211 212 213 214 215 216 217 218 219 220 221 222 223 224 225 226 227 228 229 230 231 232 233 234 235 236 237 238 239 240 241 242 243 244 245 246 247 248 249 250 251 252 253 254 255 256 257 258 259 260 261 262 263 264 265 266 267 268 269 270 271 272 273 274 275 276 277 278 279 280 281 282 283 284 285 286 287 288 289 290 291 292 293 294 295 296 297 298 299 300 301 302 303 304 305 306 307 308 309 310 311 312 313 314 315 316 317 318 319 320 321 322 323 324 325 326 327 328 329 330 331 332 333 334 335 336 337 338 339 340 341 342 343 344 345 346 347 348 349 350 351 352 353 354 355 356 357 358 359 360 361 362 363 364 365 366 367 368 369 370 371 372 373 374 375 376 377 378 379 380 381 382 383 384 385 386 387 388 389 390 391 392 393 394 395 396 397 398 399 400 401 402 403 404 405 406 407 408 409 410 411 412 413 414 415 416 417 418 419 420 421 422 423 424 425 426 427 428 429 430 431 432 433 434 435 436 437 438 439 440 441 442 443 444 445 446 447 448 449 450 451 452 453 454 455 456 457 458 459 460 461 462 463 464 465 466 467 468 469 470 471 472 473 474 475 476 477 478 479 480 481 482 483 484 485 486 487 488 489 490 491 492 493 494 495 496 497 498 499 "
          ],
          "name": "stdout"
        }
      ]
    },
    {
      "cell_type": "code",
      "metadata": {
        "id": "kFfy7dv5_YR8",
        "colab_type": "code",
        "colab": {}
      },
      "source": [
        "import operator\n",
        "\n",
        "y_ = np.ones((197, 1))\n",
        "\n",
        "x_list = np.ones(shape=(9000, 785, 1))\n",
        "\n",
        "y__list = np.ones(shape=(9000, 197, 1))\n",
        "z__list = np.ones(shape=(9000, 50, 1))\n",
        "h__list = np.ones(shape=(9000, 10, 1))\n",
        "\n",
        "y_list = np.ones(shape=(9000, 197, 1))\n",
        "z_list = np.ones(shape=(9000, 50, 1))\n",
        "h_list = np.ones(shape=(9000, 10, 1))\n",
        "l_list = np.zeros(shape=(9000, 10, 1))\n",
        "\n",
        "y_list_tmp = np.ones(shape=(9000, 197, 1))\n",
        "z_list_tmp = np.ones(shape=(9000, 50, 1))\n",
        "h_list_tmp = np.ones(shape=(9000, 10, 1))\n",
        "y__list_tmp = np.ones(shape=(9000, 197, 1))\n",
        "z__list_tmp = np.ones(shape=(9000, 50, 1))\n",
        "h__list_tmp = np.ones(shape=(9000, 10, 1))\n",
        "\n",
        "# w_tmp = np.ones(shape=(9000, 197, 785))\n",
        "# v_tmp = np.ones(shape=(9000, 50, 197))\n",
        "# u_tmp = np.ones(shape=(9000, 10, 50))\n",
        "\n",
        "# matrix_u = np.zeros((197, 785))  #197줄\n",
        "# matrix_u[0][0] = 1               #y레이어의 bias를 위한 값 1\n",
        "\n",
        "\n",
        "#training set 1000개에 대해서\n",
        "for i in range(0, 9000):\n",
        "  # print(i)\n",
        "  label       = list_label[i + 1000]\n",
        "  bias   = [1]       #bias 1\n",
        "  im_vector = np.concatenate((bias, list_image[:, i + 1000]), axis = None)\n",
        "\n",
        "  # print(type(list_image[: , i]))\n",
        "  # print(list_image[:, i])\n",
        "  # print(im_vector)\n",
        "  im_matrix   = im_vector.reshape((size_row*size_col + 1, 1))\n",
        "  \n",
        "  x_list[i] = im_matrix\n",
        "\n",
        "  y_ = np.dot(matrix_u, im_matrix)  #x와 가중치 u를 곱해서 y_를 만듦\n",
        "  y__list[i] = y_\n",
        "  \n",
        "  y_vector = np.ones((197,1)) #bias\n",
        "  for j in range (1, 197):\n",
        "    y_vector[j][0] = 1 / (1 + math.exp(-y_[j][0]))\n",
        "    # sigmoid(y_[j][0])  #sigmoid 함수를 적용해서 y_에서 y를 만듦\n",
        "\n",
        "  y   = y_vector.reshape((197, 1))\n",
        "  y_list[i] = y\n",
        "\n",
        "  z_  = np.dot(matrix_v, y)  #y와 가중치 v를 곱해서 z_를 만듦\n",
        "  z__list[i] = z_\n",
        "  z_vector = np.ones((50,1)) #bias\n",
        "  for j in range (1, 50):\n",
        "    z_vector[j][0] = 1 / (1 + math.exp(-z_[j][0]))  #sigmoid 함수를 적용해서 y_에서 y를 만듦\n",
        "\n",
        "  z   = z_vector.reshape((50, 1))\n",
        "  z_list[i] = z\n",
        "  \n",
        "  # print(z)\n",
        "\n",
        "  h_  = np.dot(matrix_w, z)  #z와 가중치 w를 곱해서 h_를 만듦\n",
        "  h__list[i] = h_\n",
        "  \n",
        "  h_vector = np.ones((10,1)) #bias\n",
        "  for j in range (0, 10):\n",
        "    h_vector[j][0] = 1 / (1 + math.exp(-h_[j][0]))  #sigmoid 함수를 적용해서 h_에서 h를 만듦\n",
        "\n",
        "  h   = h_vector.reshape((10, 1))\n",
        "  # tmp = h.ravel()\n",
        "  # max_value = max(tmp)\n",
        "  # print(max_value)\n",
        "  # max_index = tmp.index(max_value)\n",
        "  index, value = max(enumerate(h), key=operator.itemgetter(1))\n",
        "  h_list[i] = h\n",
        "  l_list[i][index] = 1\n",
        "  # print(l_list[i])\n",
        "  # print(h)\n",
        "\n",
        "  y_list_tmp[i] = y_list[i]\n",
        "  z_list_tmp[i] = z_list[i]\n",
        "  h_list_tmp[i] = h_list[i]\n",
        "  y__list_tmp[i] = y__list[i]\n",
        "  z__list_tmp[i] = z__list[i]\n",
        "  h__list_tmp[i] = h__list[i]\n",
        "\n",
        "# print(l_list)"
      ],
      "execution_count": 0,
      "outputs": []
    },
    {
      "cell_type": "code",
      "metadata": {
        "id": "nzuVCwhp-DLC",
        "colab_type": "code",
        "outputId": "14ac2655-6143-4eb2-e69f-af759d5c2f8b",
        "colab": {
          "base_uri": "https://localhost:8080/",
          "height": 55
        }
      },
      "source": [
        "#test data!\n",
        "\n",
        "cost_history2 = np.zeros(iteration)\n",
        "\n",
        "total_number_of_predictions2 = 9000\n",
        "accuracy_history2 = np.zeros(iteration)\n",
        "\n",
        "# small_delta = np.ones(3)  #image_size, layer 2~4(3개)\n",
        "# greece_delta_w = np.ones(shape = (10, 50))\n",
        "# greece_delta_v = np.ones(shape = (50, 197))\n",
        "# greece_delta_u = np.ones(shape = (197, 785))\n",
        "\n",
        "label_group2 = np.zeros(shape = (9000, 10))\n",
        "\n",
        "for i in range(1000, 10000):\n",
        "  label       = list_label[i]\n",
        "  im_vector   = list_image[:, i]\n",
        "\n",
        "  # X[i] = im_vector\n",
        "  # print(i)\n",
        "  # print(X[i])\n",
        "  label_group2[i - 1000][label] = 1\n",
        "\n",
        "for t in range(0, iteration):\n",
        "  number_of_correct_predictions2 = 0\n",
        "  \n",
        "  print(t, end=' ')\n",
        "\n",
        "  # cost_history[t] = objective_function(1000, l_list, h_list_tmp)\n",
        "  result = 0.0\n",
        "  for i in range(0, 9000):\n",
        "    for k in range(0, 10):\n",
        "      # if h_list_tmp[i][k][0] <= 0:\n",
        "      # print(h_list_tmp[i][k][0])\n",
        "      result = result + ((-1)*label_group2[i][k]*math.log(h_list[i][k][0]) - (1-label_group2[i][k])*math.log(1-h_list[i][k][0]))\n",
        "  result = result / 9000\n",
        "  cost_history2[t] = result\n",
        "\n",
        "# (1 / (1 + math.exp(-y__list_tmp[i][m][0])))\n",
        "#############################################\n",
        "  # for m in range(0, 10):\n",
        "  #   # print(m)\n",
        "  #   for n in range(0, 50):\n",
        "  #     # matrix_w[m][n] = w_gredient_descent(l_r, m, n, 6000, l_list)\n",
        "  #     result = 0.0\n",
        "  #     for i in range(0,6000):\n",
        "  #       result = result + (z_list_tmp[i][n][0]*((1 / (1 + math.exp(-h_list_tmp[i][m][0]))) - l_list[i][m][0]))\n",
        "  #     result = result / 6000\n",
        "  #     result = result * l_r\n",
        "  #     final = w_tmp[m][n] - result\n",
        "  #     matrix_w[m][n] = final\n",
        "\n",
        "  # for m in range(0, 50):\n",
        "  #   # print(m)\n",
        "  #   for n in range(0, 197):\n",
        "  #     # matrix_v[m][n] = v_gredient_descent(l_r, m, n, 6000, l_list)\n",
        "  #     result = 0.0\n",
        "  #     for i in range(0, 6000):\n",
        "  #       result = result + (y_list_tmp[i][n][0]*w_tmp[0][m]*((1 / (1 + math.exp(-h_list_tmp[i][0][0]))) - l_list[i][0][0])*((1 / (1 + math.exp(-z__list_tmp[i][m][0])))*(1 - (1 / (1 + math.exp(-z__list_tmp[i][m][0]))))))\n",
        "  #     result = result / 6000\n",
        "  #     result = result * l_r\n",
        "  #     final = v_tmp[m][n] - result\n",
        "  #     matrix_v[m][n] = final\n",
        "\n",
        "  # for m in range(0, 197):\n",
        "  #   # print(m)\n",
        "  #   for n in range(0, 785):\n",
        "  #     # matrix_u[m][n] = u_gredient_descent(l_r, m, n, 6000, l_list)\n",
        "  #     result = 0.0\n",
        "  #     for i in range(0, 6000):\n",
        "  #       result = result + (x_list[i][n][0]*w_tmp[0][1]*v_tmp[1][m]*((1 / (1 + math.exp(-h_list_tmp[i][0][0]))) - l_list[i][0][0])*((1 / (1 + math.exp(-z__list_tmp[i][1][0])))*(1 - (1 / (1 + math.exp(-z__list_tmp[i][1][0])))))*((1 / (1 + math.exp(-y__list_tmp[i][m][0])))*(1 - (1 / (1 + math.exp(-y__list_tmp[i][m][0]))))))\n",
        "  #     result = result / 6000\n",
        "  #     result = result * l_r\n",
        "  #     final = u_tmp[m][n] - result\n",
        "  #     matrix_u[m][n] = final\n",
        "#######################################################################\n",
        "##gradient descent\n",
        "  result_w = 0\n",
        "  result_v = 0\n",
        "  result_u = 0\n",
        "\n",
        "  for i in range(0, 9000):\n",
        "    small_delta_2 = np.zeros(shape = (10, 1))\n",
        "    for j in range(0, 10):\n",
        "      small_delta_2[j][0] = h_list[i][j] - label_group2[i][j]\n",
        "    # print(h_list[i])\n",
        "    # print(label_group[i])\n",
        "    # small_delta_2 = h_list[i] - label_group[i] #여기 label_group 다시 봐야함.\n",
        "    small_delta_1 = np.dot(np.transpose(matrix_w), small_delta_2)\n",
        "    small_delta_0 = np.dot(np.transpose(matrix_v), small_delta_1)*(y_list_tmp[i]*(1 - y_list_tmp[i]))\n",
        "\n",
        "    # print(small_delta_2)\n",
        "    result_w = result_w + np.dot(small_delta_2, np.transpose(z_list[i]))\n",
        "    result_v = result_v + np.dot(small_delta_1, np.transpose(y_list[i]))\n",
        "    result_u = result_u + np.dot(small_delta_0, np.transpose(x_list[i]))\n",
        "\n",
        "  matrix_w = matrix_w - (result_w / 9000 *l_r)\n",
        "  matrix_v = matrix_v - (result_v / 9000 *l_r)\n",
        "  matrix_u = matrix_u - (result_u / 9000 *l_r)\n",
        "\n",
        "\n",
        "####################################################################\n",
        "\n",
        "  for k in range(0, 9000):\n",
        "  # print(i)\n",
        "    label       = list_label[k + 1000]\n",
        "    bias   = [1]       #bias 1\n",
        "    im_vector = np.concatenate((bias, list_image[:, k + 1000]), axis = None)\n",
        "\n",
        "    # print(type(list_image[: , k]))\n",
        "    # print(list_image[:, k])\n",
        "    # print(im_vector)\n",
        "    im_matrix   = im_vector.reshape((size_row*size_col + 1, 1))\n",
        "\n",
        "    y_ = np.dot(matrix_u, im_matrix)  #x와 가중치 u를 곱해서 y_를 만듦\n",
        "    y__list[k] = y_\n",
        "    \n",
        "    y_vector = np.ones((197,1)) #bias\n",
        "    for j in range (1, 197):\n",
        "      y_vector[j][0] = 1 / (1 + math.exp(-y_[j][0]))  #sigmoid 함수를 적용해서 y_에서 y를 만듦\n",
        "    \n",
        "    # print(y_vector) #시그모이드 값 확인\n",
        "    y   = y_vector.reshape((197, 1))\n",
        "    y_list[k] = y\n",
        "\n",
        "    z_  = np.dot(matrix_v, y)  #y와 가중치 v를 곱해서 z_를 만듦\n",
        "    z__list[k] = z_\n",
        "    z_vector = np.ones((50,1)) #bias\n",
        "    for j in range (1, 50):\n",
        "      z_vector[j][0] = 1 / (1 + math.exp(-z_[j][0]))  #sigmoid 함수를 적용해서 y_에서 y를 만듦\n",
        "\n",
        "    z   = z_vector.reshape((50, 1))\n",
        "    z_list[k] = z\n",
        "    \n",
        "    # print(z)\n",
        "\n",
        "    h_  = np.dot(matrix_w, z)  #z와 가중치 w를 곱해서 h_를 만듦\n",
        "    h__list[k] = h_\n",
        "    \n",
        "    h_vector = np.ones((10,1)) #bias\n",
        "    for j in range (0, 10):\n",
        "      h_vector[j][0] = 1 / (1 + math.exp(-h_[j][0]))  #sigmoid 함수를 적용해서 h_에서 h를 만듦\n",
        "\n",
        "    h   = h_vector.reshape((10, 1))\n",
        "    # print(h)\n",
        "    # tmp = h.ravel()\n",
        "    # max_value = max(tmp)\n",
        "    # print(max_value)\n",
        "    # max_index = tmp.index(max_value)\n",
        "    index, value = max(enumerate(h), key=operator.itemgetter(1))\n",
        "    h_list[k] = h\n",
        "    l_list[k][index] = 1\n",
        "    # print(l_list[i])\n",
        "    # print(h)\n",
        "    if index == label:\n",
        "      number_of_correct_predictions2 = number_of_correct_predictions2 + 1\n",
        "\n",
        "    y_list_tmp[k] = y_list[k]\n",
        "    z_list_tmp[k] = z_list[k]\n",
        "    h_list_tmp[k] = h_list[k]\n",
        "    y__list_tmp[k] = y__list[k]\n",
        "    z__list_tmp[k] = z__list[k]\n",
        "    h__list_tmp[k] = h__list[k]\n",
        "\n",
        "\n",
        "  accuracy_history2[t] = number_of_correct_predictions2/total_number_of_predictions2*100\n",
        "  # print(accuracy_history2[t])\n",
        "  t = t + 1"
      ],
      "execution_count": 16,
      "outputs": [
        {
          "output_type": "stream",
          "text": [
            "0 1 2 3 4 5 6 7 8 9 10 11 12 13 14 15 16 17 18 19 20 21 22 23 24 25 26 27 28 29 30 31 32 33 34 35 36 37 38 39 40 41 42 43 44 45 46 47 48 49 50 51 52 53 54 55 56 57 58 59 60 61 62 63 64 65 66 67 68 69 70 71 72 73 74 75 76 77 78 79 80 81 82 83 84 85 86 87 88 89 90 91 92 93 94 95 96 97 98 99 100 101 102 103 104 105 106 107 108 109 110 111 112 113 114 115 116 117 118 119 120 121 122 123 124 125 126 127 128 129 130 131 132 133 134 135 136 137 138 139 140 141 142 143 144 145 146 147 148 149 150 151 152 153 154 155 156 157 158 159 160 161 162 163 164 165 166 167 168 169 170 171 172 173 174 175 176 177 178 179 180 181 182 183 184 185 186 187 188 189 190 191 192 193 194 195 196 197 198 199 200 201 202 203 204 205 206 207 208 209 210 211 212 213 214 215 216 217 218 219 220 221 222 223 224 225 226 227 228 229 230 231 232 233 234 235 236 237 238 239 240 241 242 243 244 245 246 247 248 249 250 251 252 253 254 255 256 257 258 259 260 261 262 263 264 265 266 267 268 269 270 271 272 273 274 275 276 277 278 279 280 281 282 283 284 285 286 287 288 289 290 291 292 293 294 295 296 297 298 299 300 301 302 303 304 305 306 307 308 309 310 311 312 313 314 315 316 317 318 319 320 321 322 323 324 325 326 327 328 329 330 331 332 333 334 335 336 337 338 339 340 341 342 343 344 345 346 347 348 349 350 351 352 353 354 355 356 357 358 359 360 361 362 363 364 365 366 367 368 369 370 371 372 373 374 375 376 377 378 379 380 381 382 383 384 385 386 387 388 389 390 391 392 393 394 395 396 397 398 399 400 401 402 403 404 405 406 407 408 409 410 411 412 413 414 415 416 417 418 419 420 421 422 423 424 425 426 427 428 429 430 431 432 433 434 435 436 437 438 439 440 441 442 443 444 445 446 447 448 449 450 451 452 453 454 455 456 457 458 459 460 461 462 463 464 465 466 467 468 469 470 471 472 473 474 475 476 477 478 479 480 481 482 483 484 485 486 487 488 489 490 491 492 493 494 495 496 497 498 499 "
          ],
          "name": "stdout"
        }
      ]
    },
    {
      "cell_type": "code",
      "metadata": {
        "id": "81J4ESnphg--",
        "colab_type": "code",
        "colab": {}
      },
      "source": [
        "wrong_images_index = np.ones(9000)\n",
        "right_images_index = np.ones(9000)\n",
        "\n",
        "wrong_images_value = np.ones(9000)\n",
        "right_images_value = np.ones(9000)\n",
        "\n",
        "wrong_images_num = 0\n",
        "right_images_num = 0\n",
        "\n",
        "for k in range(0, 9000):\n",
        "  # print(i)\n",
        "    label       = list_label[k + 1000]\n",
        "    bias   = [1]       #bias 1\n",
        "    im_vector = np.concatenate((bias, list_image[:, k + 1000]), axis = None)\n",
        "\n",
        "    # print(type(list_image[: , k]))\n",
        "    # print(list_image[:, k])\n",
        "    # print(im_vector)\n",
        "    im_matrix   = im_vector.reshape((size_row*size_col + 1, 1))\n",
        "    # print(h_list[real_iter - 1][0])\n",
        "    index, value = max(enumerate(h_list[k]), key=operator.itemgetter(1))\n",
        "    \n",
        "\n",
        "    # print(l_list[i])\n",
        "    # print(h)\n",
        "    if index == label:\n",
        "      right_images_index[right_images_num] = int(k + 1000)\n",
        "      right_images_value[right_images_num] = int(index)\n",
        "      right_images_num = right_images_num + 1\n",
        "    else:\n",
        "      wrong_images_index[wrong_images_num] = int(k + 1000)\n",
        "      wrong_images_value[wrong_images_num] = int(index)\n",
        "      wrong_images_num = wrong_images_num + 1"
      ],
      "execution_count": 0,
      "outputs": []
    },
    {
      "cell_type": "markdown",
      "metadata": {
        "id": "pMcbWdbh98uY",
        "colab_type": "text"
      },
      "source": [
        "# **Machine Learning Assignment09** #\n",
        "\n",
        "---\n",
        "\n",
        "\n",
        "\n",
        "Name : 이현주\n",
        "\n",
        "Student # : 20184060"
      ]
    },
    {
      "cell_type": "markdown",
      "metadata": {
        "colab_type": "text",
        "id": "CwXihsOJgZ0R"
      },
      "source": [
        "# **1. Plot the loss curve [10pt]**\n",
        "\n",
        "- plot the training loss at every iteration of gradient descent using the training data in blue color (the first 6,000 images) [5pt]\n",
        "- plot the testing loss at every iteration of gradient descent using the testing data in red color (the rest 4,000 images) [5pt]\n",
        "- the both curves should be presented in one figure"
      ]
    },
    {
      "cell_type": "code",
      "metadata": {
        "id": "DTouPM3uAf8Q",
        "colab_type": "code",
        "outputId": "bf1f78c1-2b3d-470b-d925-67f711bcfffd",
        "colab": {
          "base_uri": "https://localhost:8080/",
          "height": 497
        }
      },
      "source": [
        "#그 코드를 바탕으로 training loss plotting 하기.\n",
        "real_iter = iteration\n",
        "\n",
        "fig,ax = plt.subplots(figsize=(12,8))\n",
        "\n",
        "cost_tmp = np.zeros(real_iter)\n",
        "\n",
        "for i in range(0, real_iter):\n",
        "  cost_tmp[i] = cost_history[i]\n",
        "\n",
        "\n",
        "# print(cost_history[1])\n",
        "\n",
        "ax.set_ylabel('J(Theta)')\n",
        "ax.set_xlabel('Iterations')\n",
        "_=ax.plot(range(real_iter),cost_tmp,'b.', color = 'blue')\n",
        "_=ax.plot(range(real_iter),cost_history2,'b.', color = 'red')"
      ],
      "execution_count": 18,
      "outputs": [
        {
          "output_type": "display_data",
          "data": {
            "image/png": "[encoded data removed]",
            "text/plain": [
              "<Figure size 864x576 with 1 Axes>"
            ]
          },
          "metadata": {
            "tags": [],
            "needs_background": "light"
          }
        }
      ]
    },
    {
      "cell_type": "markdown",
      "metadata": {
        "colab_type": "text",
        "id": "OiKcfzyYgaCF"
      },
      "source": [
        "# **2. Plot the accuracy curve [10pt]**\n",
        "\n",
        "- plot the training accuracy (%) at every iteration of gradient descent using the training data in blue color (the first 6,000 images) [5pt]\n",
        "- plot the testing accuracy (%) at every iteration of gradient descent using the testing data in red color (the rest 4,000 images) [5pt]\n",
        "- the both curves should be presented in one figure"
      ]
    },
    {
      "cell_type": "code",
      "metadata": {
        "id": "fF1EODxQAhri",
        "colab_type": "code",
        "outputId": "6fec2bb3-3eba-464b-9523-00c5f326d273",
        "colab": {
          "base_uri": "https://localhost:8080/",
          "height": 497
        }
      },
      "source": [
        "#그 코드를 바탕으로 training loss plotting 하기.\n",
        "fig,ax = plt.subplots(figsize=(12,8))\n",
        "\n",
        "# print(cost_history[1])\n",
        "\n",
        "ac_tmp = np.zeros(real_iter)\n",
        "\n",
        "for i in range(0, real_iter):\n",
        "  ac_tmp[i] = accuracy_history[i]\n",
        "\n",
        "ax.set_ylabel('accuracy')\n",
        "ax.set_xlabel('Iterations')\n",
        "_=ax.plot(range(real_iter),ac_tmp,'b.', color = 'blue')\n",
        "_=ax.plot(range(real_iter),accuracy_history2,'b.', color = 'red')\n",
        "# print(ac_tmp)\n",
        "\n",
        "\n",
        "\n",
        "\n",
        "\n",
        "\n",
        "\n",
        "\n",
        "\n",
        "\n",
        "\n",
        "\n",
        "\n",
        "\n",
        "\n",
        "\n",
        "\n",
        "\n",
        "\n",
        "\n",
        "\n",
        "\n"
      ],
      "execution_count": 23,
      "outputs": [
        {
          "output_type": "display_data",
          "data": {
            "image/png": "[encoded data removed]",
            "text/plain": [
              "<Figure size 864x576 with 1 Axes>"
            ]
          },
          "metadata": {
            "tags": [],
            "needs_background": "light"
          }
        }
      ]
    },
    {
      "cell_type": "markdown",
      "metadata": {
        "colab_type": "text",
        "id": "hf4SrnjSgaXp"
      },
      "source": [
        "# **3. Plot the accuracy value [4pt]**\n",
        "\n",
        "- print the final training accuracy (%) using the training data (the first 6,000 images) [2pt]\n",
        "- print the final testing accuracy (%) using the testing data (the rest 4,000 images) [2pt]"
      ]
    },
    {
      "cell_type": "code",
      "metadata": {
        "id": "B2tcQNdPAluv",
        "colab_type": "code",
        "outputId": "1fee3d34-f39e-408b-e334-be21f936b20a",
        "colab": {
          "base_uri": "https://localhost:8080/",
          "height": 52
        }
      },
      "source": [
        "print(\"final training accuracy using the training data : \", end = '')\n",
        "print(accuracy_history[-1], end = '%\\n')\n",
        "\n",
        "print(\"final training accuracy using the testing data : \", end = '')\n",
        "print(accuracy_history2[-1], end = '%\\n')"
      ],
      "execution_count": 21,
      "outputs": [
        {
          "output_type": "stream",
          "text": [
            "final training accuracy using the training data : 98.0%\n",
            "final training accuracy using the testing data : 92.52222222222221%\n"
          ],
          "name": "stdout"
        }
      ]
    },
    {
      "cell_type": "markdown",
      "metadata": {
        "colab_type": "text",
        "id": "dCAltdEPhHY_"
      },
      "source": [
        "# **4. Plot the classification example [10pt]**\n",
        "\n",
        "- present 10 correctly classified testing images with their labels at the title of each sub-figure in 2x5 array [5pt]\n",
        "- present 10 misclassified testing images with their misclassified labels at the title of each sub-figure in 2x5 array [5pt]"
      ]
    },
    {
      "cell_type": "code",
      "metadata": {
        "id": "qxLgEta7hU9c",
        "colab_type": "code",
        "outputId": "c788f24c-a17a-4cb2-ab52-1225fd4bbec0",
        "colab": {
          "base_uri": "https://localhost:8080/",
          "height": 525
        }
      },
      "source": [
        "\n",
        "print(\"**correctly classified testing images**\")\n",
        "for i in range(10):\n",
        "    # print(int(right_images_index[i]))\n",
        "    # print(h_list[int(right_images_index[i])])\n",
        "    label       = list_label[int(right_images_index[i])]\n",
        "    im_vector   = list_image[:, int(right_images_index[i])]\n",
        "    im_matrix   = im_vector.reshape((size_row, size_col))\n",
        "\n",
        "    plt.subplot(2, 5, i+1)\n",
        "    plt.title(int(right_images_value[i]))\n",
        "    plt.imshow(im_matrix, cmap='Greys', interpolation='None')\n",
        "\n",
        "    frame   = plt.gca()\n",
        "    frame.axes.get_xaxis().set_visible(False)\n",
        "    frame.axes.get_yaxis().set_visible(False)\n",
        "\n",
        "plt.show()\n",
        "print(\"\\n\\n\\n**misclassified testing images**\")\n",
        "for i in range(10):\n",
        "    # print(int(wrong_images_index[i]))\n",
        "    # print(h_list[int(right_images_index[i])])\n",
        "    label       = list_label[int(wrong_images_index[i])]\n",
        "    im_vector   = list_image[:, int(wrong_images_index[i])]\n",
        "    im_matrix   = im_vector.reshape((size_row, size_col))\n",
        "\n",
        "    plt.subplot(2, 5, i+1)\n",
        "    plt.title(int(wrong_images_value[i]))\n",
        "    plt.imshow(im_matrix, cmap='Greys', interpolation='None')\n",
        "\n",
        "    frame   = plt.gca()\n",
        "    frame.axes.get_xaxis().set_visible(False)\n",
        "    frame.axes.get_yaxis().set_visible(False)\n",
        "\n",
        "plt.show()"
      ],
      "execution_count": 22,
      "outputs": [
        {
          "output_type": "stream",
          "text": [
            "**correctly classified testing images**\n"
          ],
          "name": "stdout"
        },
        {
          "output_type": "display_data",
          "data": {
            "image/png": "[encoded data removed]",
            "text/plain": [
              "<Figure size 432x288 with 10 Axes>"
            ]
          },
          "metadata": {
            "tags": [],
            "needs_background": "light"
          }
        },
        {
          "output_type": "stream",
          "text": [
            "\n",
            "\n",
            "\n",
            "**misclassified testing images**\n"
          ],
          "name": "stdout"
        },
        {
          "output_type": "display_data",
          "data": {
            "image/png": "[encoded data removed]",
            "text/plain": [
              "<Figure size 432x288 with 10 Axes>"
            ]
          },
          "metadata": {
            "tags": [],
            "needs_background": "light"
          }
        }
      ]
    }
  ]
}